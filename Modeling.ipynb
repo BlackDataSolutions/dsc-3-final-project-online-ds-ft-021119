{
 "cells": [
  {
   "cell_type": "code",
   "execution_count": 104,
   "metadata": {},
   "outputs": [],
   "source": [
    "import pandas as pd\n",
    "import numpy as np\n",
    "from sklearn.preprocessing import LabelEncoder\n",
    "from sklearn.model_selection import train_test_split\n",
    "\n",
    "from sklearn import metrics\n",
    "from sklearn.metrics import confusion_matrix, accuracy_score, roc_curve, auc\n",
    "from sklearn.svm import SVC\n",
    "import seaborn as sns\n",
    "\n",
    "import warnings\n",
    "\n",
    "from sklearn.model_selection import cross_val_score, cross_val_predict, GridSearchCV, KFold, train_test_split \n",
    "\n",
    "import matplotlib.pyplot as plt\n",
    "%matplotlib inline"
   ]
  },
  {
   "cell_type": "code",
   "execution_count": 55,
   "metadata": {
    "scrolled": true
   },
   "outputs": [],
   "source": [
    "from sklearn.model_selection import train_test_split, GridSearchCV\n",
    "from sklearn.preprocessing import StandardScaler\n",
    "from sklearn.metrics import accuracy_score, confusion_matrix, classification_report, f1_score\n",
    "from sklearn.tree import DecisionTreeClassifier\n",
    "from sklearn.ensemble import BaggingClassifier, RandomForestClassifier, AdaBoostClassifier, GradientBoostingClassifier\n",
    "from sklearn.svm import SVC\n",
    "from sklearn.neighbors import KNeighborsClassifier\n",
    "from sklearn.naive_bayes import GaussianNB\n",
    "import xgboost as xgb"
   ]
  },
  {
   "cell_type": "code",
   "execution_count": 414,
   "metadata": {},
   "outputs": [],
   "source": [
    "from scipy import stats"
   ]
  },
  {
   "cell_type": "markdown",
   "metadata": {},
   "source": [
    "# Functions for Project"
   ]
  },
  {
   "cell_type": "code",
   "execution_count": 337,
   "metadata": {},
   "outputs": [],
   "source": [
    "#Function to put the training and testing accuracy of each model in a list of models\n",
    "def model_results_dataframe(model_list, model_names, features_train, target_train, features_test, target_test):\n",
    "    #Place to start \n",
    "    result_list = []\n",
    "    \n",
    "    for i, model in enumerate(model_list):\n",
    "        #Fit the model to the data and make predictions\n",
    "        model.fit(features_train, target_train)\n",
    "        training_preds = model.predict(features_train)\n",
    "        testing_preds = model.predict(features_test)\n",
    "        \n",
    "        #Accuracy scores for each model\n",
    "        train_accuracy = accuracy_score(target_train, training_preds)\n",
    "        test_accuracy = accuracy_score(target_test, testing_preds)\n",
    "        \n",
    "        #Put them in results\n",
    "        result_list.append([model_names[i],train_accuracy, test_accuracy])\n",
    "    \n",
    "    column_names = ['Model Name', 'Training Accuracy', 'Testing Accuracy']\n",
    "    results_df = pd.DataFrame(result_list, columns=column_names)\n",
    "    results_df = results_df.sort_values(by=['Testing Accuracy'], ascending=False)\n",
    "    return results_df"
   ]
  },
  {
   "cell_type": "code",
   "execution_count": 281,
   "metadata": {},
   "outputs": [],
   "source": [
    "#Plots a confusion matrix of a given model\n",
    "\n",
    "def plot_confusion_matrix(y_test, model_test):\n",
    "    cm = metrics.confusion_matrix(y_test, model_test)\n",
    "    plt.figure(1)\n",
    "    plt.clf()\n",
    "    plt.imshow(cm, interpolation='nearest', cmap=plt.cm.Wistia)\n",
    "    classNames = ['Non-User','User']\n",
    "    plt.title('Confusion Matrix')\n",
    "    plt.ylabel('True label')\n",
    "    plt.xlabel('Predicted label')\n",
    "    tick_marks = np.arange(len(classNames))\n",
    "    plt.xticks(tick_marks, classNames)\n",
    "    plt.yticks(tick_marks, classNames)\n",
    "    s = [['TN','FP'], ['FN', 'TP']]\n",
    "    for i in range(2):\n",
    "        for j in range(2):\n",
    "            plt.text(j,i, str(s[i][j])+\" = \"+str(cm[i][j]))\n",
    "    plt.show()"
   ]
  },
  {
   "cell_type": "code",
   "execution_count": 367,
   "metadata": {},
   "outputs": [],
   "source": [
    "# Shows confusion matrix and classification report for a model after it has been fitted\n",
    "def results_summary(mymodel, X_train, y_train, X_test, y_test):\n",
    "    mymodel.fit(X_train, y_train)\n",
    "    model_preds = mymodel.predict(X_test)\n",
    "    \n",
    "    model_accuracy = metrics.accuracy_score(y_test, model_preds)\n",
    "    \n",
    "    print(\"\\n\\nAccuracy Score: {}\".format(model_accuracy))\n",
    "    print(\"\\n\\nConfusion Matrix:\")\n",
    "    plot_confusion_matrix(y_test, model_preds)\n",
    "    print(\"\\n\\nClassification Report:\")\n",
    "    print(metrics.classification_report(y_test, model_preds))"
   ]
  },
  {
   "cell_type": "code",
   "execution_count": 374,
   "metadata": {},
   "outputs": [],
   "source": [
    "# Shows roc_curve for a model after it has been fitted.\n",
    "def roc_curves(unfitted_model, X_train, y_train, X_test, y_test):\n",
    "    unfitted_model.fit(X_train, y_train)\n",
    "    model_preds = unfitted_model.predict(X_test)\n",
    "    fpr, tpr, thresholds = roc_curve(model_preds,y_test)\n",
    "    roc_auc = auc(fpr, tpr)\n",
    "\n",
    "    plt.figure()\n",
    "    plt.plot(fpr, tpr, color='green', lw=1, label='ROC curve (area = %0.2f)' % roc_auc)\n",
    "    plt.plot([0, 1], [0, 1], color='navy', lw=2, linestyle='--')\n",
    "    plt.xlim([0.0, 1.0])\n",
    "    plt.ylim([0.0, 1.05])\n",
    "    plt.xlabel('False Positive Rate')\n",
    "    plt.ylabel('True Positive Rate')\n",
    "    plt.title('Receiver operating characteristic')\n",
    "    plt.legend(loc=\"lower right\")\n",
    "    plt.show()"
   ]
  },
  {
   "cell_type": "code",
   "execution_count": 409,
   "metadata": {},
   "outputs": [],
   "source": [
    "#Visualizes feature importance on a horizontal bar chart for a given model\n",
    "def feature_importance_visualization(model, X_train, y_train, mytitle):\n",
    "    model.fit(X_train, y_train)\n",
    "    \n",
    "    feature_importances = pd.Series(model.feature_importances_, X_train.columns).sort_values(ascending=True)\n",
    "\n",
    "    \n",
    "    plt.figure(figsize=(6,6))\n",
    "\n",
    "    feature_importances.plot.barh(width=0.5)\n",
    "    \n",
    "    \n",
    "\n",
    "    plt.title(mytitle)\n",
    "    plt.show()"
   ]
  },
  {
   "cell_type": "code",
   "execution_count": 413,
   "metadata": {},
   "outputs": [],
   "source": [
    "# Cohen's d for effect size\n",
    "def Cohen_d(group1, group2):\n",
    "\n",
    "    diff = group1.mean() - group2.mean()\n",
    "\n",
    "    n1, n2 = len(group1), len(group2)\n",
    "    var1 = group1.var()\n",
    "    var2 = group2.var()\n",
    "\n",
    "    # Calculate the pooled variance\n",
    "    pooled_var = (n1 * var1 + n2 * var2) / (n1 + n2)\n",
    "    \n",
    "    # Calculate Cohen's d statistic\n",
    "    d = diff / np.sqrt(pooled_var)\n",
    "    \n",
    "    return d"
   ]
  },
  {
   "cell_type": "code",
   "execution_count": 464,
   "metadata": {},
   "outputs": [],
   "source": [
    "def ttest_helper(nonuser_sample, user_sample):\n",
    "    t_stat, p_val = stats.ttest_ind(nonuser_sample, user_sample, equal_var=False) #equal_var = False means welch's t\n",
    "    \n",
    "    effect_size_quantity = round(nonuser_sample.mean() - user_sample.mean(),2)\n",
    "    effect_size_cohen = round(Cohen_d(nonuser_sample, user_sample),3)\n",
    "      \n",
    "    return p_val, effect_size_quantity, effect_size_cohen\n",
    "    "
   ]
  },
  {
   "cell_type": "code",
   "execution_count": 480,
   "metadata": {},
   "outputs": [],
   "source": [
    "def dist_visualization(samp1, samp2, lab1, lab2):\n",
    "    plt.figure(figsize=(10,6))\n",
    "    sns.distplot(samp1, label=lab1, color='green')\n",
    "    sns.distplot(samp2, label=lab2, color='red')\n",
    "    plt.axvline(samp1.mean(),0,1, color='green', label=lab1+\" Mean\", linestyle='--')\n",
    "    plt.axvline(samp2.mean(),0,1, color='red', label=lab2+\" Mean\", linestyle='--')\n",
    "    plt.title(lab1 + \" vs. \" + lab2)\n",
    "    plt.legend()\n",
    "    warnings.filterwarnings(\"ignore\")\n",
    "    plt.show()"
   ]
  },
  {
   "cell_type": "markdown",
   "metadata": {},
   "source": [
    "# Loading the Data and Preprocessing"
   ]
  },
  {
   "cell_type": "code",
   "execution_count": 3,
   "metadata": {},
   "outputs": [],
   "source": [
    "drug_data = pd.read_csv('drug_consumption_clean.csv')"
   ]
  },
  {
   "cell_type": "code",
   "execution_count": 4,
   "metadata": {},
   "outputs": [
    {
     "data": {
      "text/html": [
       "<div>\n",
       "<style scoped>\n",
       "    .dataframe tbody tr th:only-of-type {\n",
       "        vertical-align: middle;\n",
       "    }\n",
       "\n",
       "    .dataframe tbody tr th {\n",
       "        vertical-align: top;\n",
       "    }\n",
       "\n",
       "    .dataframe thead th {\n",
       "        text-align: right;\n",
       "    }\n",
       "</style>\n",
       "<table border=\"1\" class=\"dataframe\">\n",
       "  <thead>\n",
       "    <tr style=\"text-align: right;\">\n",
       "      <th></th>\n",
       "      <th>Age</th>\n",
       "      <th>Gender</th>\n",
       "      <th>Education</th>\n",
       "      <th>Country</th>\n",
       "      <th>Ethnicity</th>\n",
       "      <th>Nscore</th>\n",
       "      <th>Escore</th>\n",
       "      <th>Oscore</th>\n",
       "      <th>Ascore</th>\n",
       "      <th>Cscore</th>\n",
       "      <th>...</th>\n",
       "      <th>Ecstasy</th>\n",
       "      <th>Heroin</th>\n",
       "      <th>Ketamine</th>\n",
       "      <th>Legal_Highs</th>\n",
       "      <th>LSD</th>\n",
       "      <th>Methadone</th>\n",
       "      <th>Mushrooms</th>\n",
       "      <th>Nicotine</th>\n",
       "      <th>Semeron</th>\n",
       "      <th>VSA</th>\n",
       "    </tr>\n",
       "  </thead>\n",
       "  <tbody>\n",
       "    <tr>\n",
       "      <th>0</th>\n",
       "      <td>0.49788</td>\n",
       "      <td>0.48246</td>\n",
       "      <td>-0.05921</td>\n",
       "      <td>0.96082</td>\n",
       "      <td>0.12600</td>\n",
       "      <td>0.31287</td>\n",
       "      <td>-0.57545</td>\n",
       "      <td>-0.58331</td>\n",
       "      <td>-0.91699</td>\n",
       "      <td>-0.00665</td>\n",
       "      <td>...</td>\n",
       "      <td>CL0</td>\n",
       "      <td>CL0</td>\n",
       "      <td>CL0</td>\n",
       "      <td>CL0</td>\n",
       "      <td>CL0</td>\n",
       "      <td>CL0</td>\n",
       "      <td>CL0</td>\n",
       "      <td>CL2</td>\n",
       "      <td>CL0</td>\n",
       "      <td>CL0</td>\n",
       "    </tr>\n",
       "    <tr>\n",
       "      <th>1</th>\n",
       "      <td>-0.07854</td>\n",
       "      <td>-0.48246</td>\n",
       "      <td>1.98437</td>\n",
       "      <td>0.96082</td>\n",
       "      <td>-0.31685</td>\n",
       "      <td>-0.67825</td>\n",
       "      <td>1.93886</td>\n",
       "      <td>1.43533</td>\n",
       "      <td>0.76096</td>\n",
       "      <td>-0.14277</td>\n",
       "      <td>...</td>\n",
       "      <td>CL4</td>\n",
       "      <td>CL0</td>\n",
       "      <td>CL2</td>\n",
       "      <td>CL0</td>\n",
       "      <td>CL2</td>\n",
       "      <td>CL3</td>\n",
       "      <td>CL0</td>\n",
       "      <td>CL4</td>\n",
       "      <td>CL0</td>\n",
       "      <td>CL0</td>\n",
       "    </tr>\n",
       "    <tr>\n",
       "      <th>2</th>\n",
       "      <td>0.49788</td>\n",
       "      <td>-0.48246</td>\n",
       "      <td>-0.05921</td>\n",
       "      <td>0.96082</td>\n",
       "      <td>-0.31685</td>\n",
       "      <td>-0.46725</td>\n",
       "      <td>0.80523</td>\n",
       "      <td>-0.84732</td>\n",
       "      <td>-1.62090</td>\n",
       "      <td>-1.01450</td>\n",
       "      <td>...</td>\n",
       "      <td>CL0</td>\n",
       "      <td>CL0</td>\n",
       "      <td>CL0</td>\n",
       "      <td>CL0</td>\n",
       "      <td>CL0</td>\n",
       "      <td>CL0</td>\n",
       "      <td>CL1</td>\n",
       "      <td>CL0</td>\n",
       "      <td>CL0</td>\n",
       "      <td>CL0</td>\n",
       "    </tr>\n",
       "    <tr>\n",
       "      <th>3</th>\n",
       "      <td>-0.95197</td>\n",
       "      <td>0.48246</td>\n",
       "      <td>1.16365</td>\n",
       "      <td>0.96082</td>\n",
       "      <td>-0.31685</td>\n",
       "      <td>-0.14882</td>\n",
       "      <td>-0.80615</td>\n",
       "      <td>-0.01928</td>\n",
       "      <td>0.59042</td>\n",
       "      <td>0.58489</td>\n",
       "      <td>...</td>\n",
       "      <td>CL0</td>\n",
       "      <td>CL0</td>\n",
       "      <td>CL2</td>\n",
       "      <td>CL0</td>\n",
       "      <td>CL0</td>\n",
       "      <td>CL0</td>\n",
       "      <td>CL0</td>\n",
       "      <td>CL2</td>\n",
       "      <td>CL0</td>\n",
       "      <td>CL0</td>\n",
       "    </tr>\n",
       "    <tr>\n",
       "      <th>4</th>\n",
       "      <td>0.49788</td>\n",
       "      <td>0.48246</td>\n",
       "      <td>1.98437</td>\n",
       "      <td>0.96082</td>\n",
       "      <td>-0.31685</td>\n",
       "      <td>0.73545</td>\n",
       "      <td>-1.63340</td>\n",
       "      <td>-0.45174</td>\n",
       "      <td>-0.30172</td>\n",
       "      <td>1.30612</td>\n",
       "      <td>...</td>\n",
       "      <td>CL1</td>\n",
       "      <td>CL0</td>\n",
       "      <td>CL0</td>\n",
       "      <td>CL1</td>\n",
       "      <td>CL0</td>\n",
       "      <td>CL0</td>\n",
       "      <td>CL2</td>\n",
       "      <td>CL2</td>\n",
       "      <td>CL0</td>\n",
       "      <td>CL0</td>\n",
       "    </tr>\n",
       "  </tbody>\n",
       "</table>\n",
       "<p>5 rows × 31 columns</p>\n",
       "</div>"
      ],
      "text/plain": [
       "       Age   Gender  Education  Country  Ethnicity   Nscore   Escore   Oscore  \\\n",
       "0  0.49788  0.48246   -0.05921  0.96082    0.12600  0.31287 -0.57545 -0.58331   \n",
       "1 -0.07854 -0.48246    1.98437  0.96082   -0.31685 -0.67825  1.93886  1.43533   \n",
       "2  0.49788 -0.48246   -0.05921  0.96082   -0.31685 -0.46725  0.80523 -0.84732   \n",
       "3 -0.95197  0.48246    1.16365  0.96082   -0.31685 -0.14882 -0.80615 -0.01928   \n",
       "4  0.49788  0.48246    1.98437  0.96082   -0.31685  0.73545 -1.63340 -0.45174   \n",
       "\n",
       "    Ascore   Cscore ...   Ecstasy  Heroin Ketamine Legal_Highs  LSD Methadone  \\\n",
       "0 -0.91699 -0.00665 ...       CL0     CL0      CL0         CL0  CL0       CL0   \n",
       "1  0.76096 -0.14277 ...       CL4     CL0      CL2         CL0  CL2       CL3   \n",
       "2 -1.62090 -1.01450 ...       CL0     CL0      CL0         CL0  CL0       CL0   \n",
       "3  0.59042  0.58489 ...       CL0     CL0      CL2         CL0  CL0       CL0   \n",
       "4 -0.30172  1.30612 ...       CL1     CL0      CL0         CL1  CL0       CL0   \n",
       "\n",
       "  Mushrooms Nicotine Semeron  VSA  \n",
       "0       CL0      CL2     CL0  CL0  \n",
       "1       CL0      CL4     CL0  CL0  \n",
       "2       CL1      CL0     CL0  CL0  \n",
       "3       CL0      CL2     CL0  CL0  \n",
       "4       CL2      CL2     CL0  CL0  \n",
       "\n",
       "[5 rows x 31 columns]"
      ]
     },
     "execution_count": 4,
     "metadata": {},
     "output_type": "execute_result"
    }
   ],
   "source": [
    "drug_data.head()"
   ]
  },
  {
   "cell_type": "code",
   "execution_count": 5,
   "metadata": {},
   "outputs": [],
   "source": [
    "# Features have already been pre-engineered for analysis- here insert discussion of how they were engineered"
   ]
  },
  {
   "cell_type": "code",
   "execution_count": 6,
   "metadata": {
    "scrolled": true
   },
   "outputs": [
    {
     "data": {
      "text/plain": [
       "Age             0\n",
       "Gender          0\n",
       "Education       0\n",
       "Country         0\n",
       "Ethnicity       0\n",
       "Nscore          0\n",
       "Escore          0\n",
       "Oscore          0\n",
       "Ascore          0\n",
       "Cscore          0\n",
       "Impulsive       0\n",
       "SS              0\n",
       "Alcohol         0\n",
       "Amphetamines    0\n",
       "Amyl_Nitrite    0\n",
       "Benzos          0\n",
       "Caffeine        0\n",
       "Cannabis        0\n",
       "Chocolate       0\n",
       "Cocaine         0\n",
       "Crack           0\n",
       "Ecstasy         0\n",
       "Heroin          0\n",
       "Ketamine        0\n",
       "Legal_Highs     0\n",
       "LSD             0\n",
       "Methadone       0\n",
       "Mushrooms       0\n",
       "Nicotine        0\n",
       "Semeron         0\n",
       "VSA             0\n",
       "dtype: int64"
      ]
     },
     "execution_count": 6,
     "metadata": {},
     "output_type": "execute_result"
    }
   ],
   "source": [
    "# Checking for null rows or columns\n",
    "drug_data.isna().sum()"
   ]
  },
  {
   "cell_type": "markdown",
   "metadata": {},
   "source": [
    "## <font color='red'> Note on Preprocessing and Dimensionality Reduction"
   ]
  },
  {
   "cell_type": "markdown",
   "metadata": {},
   "source": [
    "**Data Source**\n",
    "\n",
    "This dataset was pulled from UCI's machine learning database, and related to a study on drug use performed using an online survey in 2016. These researchers already did a fair amount of cleaning and preprocessing, which is why the data appears so clean above. The links to the UCI page from which I pulled the database and the actual study report are below.\n",
    "\n",
    "https://archive.ics.uci.edu/ml/datasets/Drug+consumption+%28quantified%29\n",
    "\n",
    "https://arxiv.org/pdf/1506.06297.pdf\n"
   ]
  },
  {
   "cell_type": "markdown",
   "metadata": {},
   "source": [
    "**Reducing dimensionality through input feature transformation**\n",
    "\n",
    "As part of the initial dataset, all of the feature columns had either nominal or ordinal data. For example, country had the names of the country and age had the actual ages. Given the number of different levels within each personality score and demographic level, using this data in its raw format would lead to a 250 dimensional space. Trying to fit a model in a 250 dimensional space would result in massively overfitting most of our models. \n",
    "\n",
    "As such, the original team that performed the study decided to transform all ordinal and nominal features into continuous variables for modelling purposes. Ordinal features (the personality scores) were transformed using polychoric correlation. The technique of polychoric correlation is based on the assumption that values of ordinal features result from the discretization of continuous random values with fixed thresholds\n",
    "\n",
    "Nominal features (demographic info like country, education, etc.) was transofrmed using nonlinear Categorical PCA (CatPCA). \n",
    "\n",
    "For more details about the process of applying these transformations, please refer to the study pdf linked above, pages 12-13."
   ]
  },
  {
   "cell_type": "markdown",
   "metadata": {},
   "source": [
    "# <font color='green'> Classification Levels"
   ]
  },
  {
   "cell_type": "markdown",
   "metadata": {},
   "source": [
    "For the purposes of this project, I will test two different classification levels. Below I create two different data frame and do some feature engineering within each of them to get them ready for modeling: \n",
    "\n",
    "1. Binary(user or non-user) - A User is someone who has used the drug in the past decade\n",
    "2. 7 levels of use divided by recency (used in last day, used in last week, used in last month, etc.)\n",
    "\n",
    "The focus of this project will be on the binary classification, but I will also put the multilevel dataframe through the models to see how well they perform."
   ]
  },
  {
   "cell_type": "code",
   "execution_count": 7,
   "metadata": {
    "scrolled": true
   },
   "outputs": [
    {
     "data": {
      "text/html": [
       "<div>\n",
       "<style scoped>\n",
       "    .dataframe tbody tr th:only-of-type {\n",
       "        vertical-align: middle;\n",
       "    }\n",
       "\n",
       "    .dataframe tbody tr th {\n",
       "        vertical-align: top;\n",
       "    }\n",
       "\n",
       "    .dataframe thead th {\n",
       "        text-align: right;\n",
       "    }\n",
       "</style>\n",
       "<table border=\"1\" class=\"dataframe\">\n",
       "  <thead>\n",
       "    <tr style=\"text-align: right;\">\n",
       "      <th></th>\n",
       "      <th>Age</th>\n",
       "      <th>Gender</th>\n",
       "      <th>Education</th>\n",
       "      <th>Country</th>\n",
       "      <th>Ethnicity</th>\n",
       "      <th>Nscore</th>\n",
       "      <th>Escore</th>\n",
       "      <th>Oscore</th>\n",
       "      <th>Ascore</th>\n",
       "      <th>Cscore</th>\n",
       "      <th>...</th>\n",
       "      <th>Ecstasy</th>\n",
       "      <th>Heroin</th>\n",
       "      <th>Ketamine</th>\n",
       "      <th>Legal_Highs</th>\n",
       "      <th>LSD</th>\n",
       "      <th>Methadone</th>\n",
       "      <th>Mushrooms</th>\n",
       "      <th>Nicotine</th>\n",
       "      <th>Semeron</th>\n",
       "      <th>VSA</th>\n",
       "    </tr>\n",
       "  </thead>\n",
       "  <tbody>\n",
       "    <tr>\n",
       "      <th>0</th>\n",
       "      <td>0.49788</td>\n",
       "      <td>0.48246</td>\n",
       "      <td>-0.05921</td>\n",
       "      <td>0.96082</td>\n",
       "      <td>0.12600</td>\n",
       "      <td>0.31287</td>\n",
       "      <td>-0.57545</td>\n",
       "      <td>-0.58331</td>\n",
       "      <td>-0.91699</td>\n",
       "      <td>-0.00665</td>\n",
       "      <td>...</td>\n",
       "      <td>CL0</td>\n",
       "      <td>CL0</td>\n",
       "      <td>CL0</td>\n",
       "      <td>CL0</td>\n",
       "      <td>CL0</td>\n",
       "      <td>CL0</td>\n",
       "      <td>CL0</td>\n",
       "      <td>CL2</td>\n",
       "      <td>CL0</td>\n",
       "      <td>CL0</td>\n",
       "    </tr>\n",
       "    <tr>\n",
       "      <th>1</th>\n",
       "      <td>-0.07854</td>\n",
       "      <td>-0.48246</td>\n",
       "      <td>1.98437</td>\n",
       "      <td>0.96082</td>\n",
       "      <td>-0.31685</td>\n",
       "      <td>-0.67825</td>\n",
       "      <td>1.93886</td>\n",
       "      <td>1.43533</td>\n",
       "      <td>0.76096</td>\n",
       "      <td>-0.14277</td>\n",
       "      <td>...</td>\n",
       "      <td>CL4</td>\n",
       "      <td>CL0</td>\n",
       "      <td>CL2</td>\n",
       "      <td>CL0</td>\n",
       "      <td>CL2</td>\n",
       "      <td>CL3</td>\n",
       "      <td>CL0</td>\n",
       "      <td>CL4</td>\n",
       "      <td>CL0</td>\n",
       "      <td>CL0</td>\n",
       "    </tr>\n",
       "    <tr>\n",
       "      <th>2</th>\n",
       "      <td>0.49788</td>\n",
       "      <td>-0.48246</td>\n",
       "      <td>-0.05921</td>\n",
       "      <td>0.96082</td>\n",
       "      <td>-0.31685</td>\n",
       "      <td>-0.46725</td>\n",
       "      <td>0.80523</td>\n",
       "      <td>-0.84732</td>\n",
       "      <td>-1.62090</td>\n",
       "      <td>-1.01450</td>\n",
       "      <td>...</td>\n",
       "      <td>CL0</td>\n",
       "      <td>CL0</td>\n",
       "      <td>CL0</td>\n",
       "      <td>CL0</td>\n",
       "      <td>CL0</td>\n",
       "      <td>CL0</td>\n",
       "      <td>CL1</td>\n",
       "      <td>CL0</td>\n",
       "      <td>CL0</td>\n",
       "      <td>CL0</td>\n",
       "    </tr>\n",
       "    <tr>\n",
       "      <th>3</th>\n",
       "      <td>-0.95197</td>\n",
       "      <td>0.48246</td>\n",
       "      <td>1.16365</td>\n",
       "      <td>0.96082</td>\n",
       "      <td>-0.31685</td>\n",
       "      <td>-0.14882</td>\n",
       "      <td>-0.80615</td>\n",
       "      <td>-0.01928</td>\n",
       "      <td>0.59042</td>\n",
       "      <td>0.58489</td>\n",
       "      <td>...</td>\n",
       "      <td>CL0</td>\n",
       "      <td>CL0</td>\n",
       "      <td>CL2</td>\n",
       "      <td>CL0</td>\n",
       "      <td>CL0</td>\n",
       "      <td>CL0</td>\n",
       "      <td>CL0</td>\n",
       "      <td>CL2</td>\n",
       "      <td>CL0</td>\n",
       "      <td>CL0</td>\n",
       "    </tr>\n",
       "    <tr>\n",
       "      <th>4</th>\n",
       "      <td>0.49788</td>\n",
       "      <td>0.48246</td>\n",
       "      <td>1.98437</td>\n",
       "      <td>0.96082</td>\n",
       "      <td>-0.31685</td>\n",
       "      <td>0.73545</td>\n",
       "      <td>-1.63340</td>\n",
       "      <td>-0.45174</td>\n",
       "      <td>-0.30172</td>\n",
       "      <td>1.30612</td>\n",
       "      <td>...</td>\n",
       "      <td>CL1</td>\n",
       "      <td>CL0</td>\n",
       "      <td>CL0</td>\n",
       "      <td>CL1</td>\n",
       "      <td>CL0</td>\n",
       "      <td>CL0</td>\n",
       "      <td>CL2</td>\n",
       "      <td>CL2</td>\n",
       "      <td>CL0</td>\n",
       "      <td>CL0</td>\n",
       "    </tr>\n",
       "  </tbody>\n",
       "</table>\n",
       "<p>5 rows × 31 columns</p>\n",
       "</div>"
      ],
      "text/plain": [
       "       Age   Gender  Education  Country  Ethnicity   Nscore   Escore   Oscore  \\\n",
       "0  0.49788  0.48246   -0.05921  0.96082    0.12600  0.31287 -0.57545 -0.58331   \n",
       "1 -0.07854 -0.48246    1.98437  0.96082   -0.31685 -0.67825  1.93886  1.43533   \n",
       "2  0.49788 -0.48246   -0.05921  0.96082   -0.31685 -0.46725  0.80523 -0.84732   \n",
       "3 -0.95197  0.48246    1.16365  0.96082   -0.31685 -0.14882 -0.80615 -0.01928   \n",
       "4  0.49788  0.48246    1.98437  0.96082   -0.31685  0.73545 -1.63340 -0.45174   \n",
       "\n",
       "    Ascore   Cscore ...   Ecstasy  Heroin Ketamine Legal_Highs  LSD Methadone  \\\n",
       "0 -0.91699 -0.00665 ...       CL0     CL0      CL0         CL0  CL0       CL0   \n",
       "1  0.76096 -0.14277 ...       CL4     CL0      CL2         CL0  CL2       CL3   \n",
       "2 -1.62090 -1.01450 ...       CL0     CL0      CL0         CL0  CL0       CL0   \n",
       "3  0.59042  0.58489 ...       CL0     CL0      CL2         CL0  CL0       CL0   \n",
       "4 -0.30172  1.30612 ...       CL1     CL0      CL0         CL1  CL0       CL0   \n",
       "\n",
       "  Mushrooms Nicotine Semeron  VSA  \n",
       "0       CL0      CL2     CL0  CL0  \n",
       "1       CL0      CL4     CL0  CL0  \n",
       "2       CL1      CL0     CL0  CL0  \n",
       "3       CL0      CL2     CL0  CL0  \n",
       "4       CL2      CL2     CL0  CL0  \n",
       "\n",
       "[5 rows x 31 columns]"
      ]
     },
     "execution_count": 7,
     "metadata": {},
     "output_type": "execute_result"
    }
   ],
   "source": [
    "# Binary_df for classifying whether or not someone is a user\n",
    "binary_df = drug_data.copy()\n",
    "binary_df.head()"
   ]
  },
  {
   "cell_type": "code",
   "execution_count": 8,
   "metadata": {},
   "outputs": [
    {
     "data": {
      "text/html": [
       "<div>\n",
       "<style scoped>\n",
       "    .dataframe tbody tr th:only-of-type {\n",
       "        vertical-align: middle;\n",
       "    }\n",
       "\n",
       "    .dataframe tbody tr th {\n",
       "        vertical-align: top;\n",
       "    }\n",
       "\n",
       "    .dataframe thead th {\n",
       "        text-align: right;\n",
       "    }\n",
       "</style>\n",
       "<table border=\"1\" class=\"dataframe\">\n",
       "  <thead>\n",
       "    <tr style=\"text-align: right;\">\n",
       "      <th></th>\n",
       "      <th>Age</th>\n",
       "      <th>Gender</th>\n",
       "      <th>Education</th>\n",
       "      <th>Country</th>\n",
       "      <th>Ethnicity</th>\n",
       "      <th>Nscore</th>\n",
       "      <th>Escore</th>\n",
       "      <th>Oscore</th>\n",
       "      <th>Ascore</th>\n",
       "      <th>Cscore</th>\n",
       "      <th>...</th>\n",
       "      <th>Ecstasy</th>\n",
       "      <th>Heroin</th>\n",
       "      <th>Ketamine</th>\n",
       "      <th>Legal_Highs</th>\n",
       "      <th>LSD</th>\n",
       "      <th>Methadone</th>\n",
       "      <th>Mushrooms</th>\n",
       "      <th>Nicotine</th>\n",
       "      <th>Semeron</th>\n",
       "      <th>VSA</th>\n",
       "    </tr>\n",
       "  </thead>\n",
       "  <tbody>\n",
       "    <tr>\n",
       "      <th>0</th>\n",
       "      <td>0.49788</td>\n",
       "      <td>0.48246</td>\n",
       "      <td>-0.05921</td>\n",
       "      <td>0.96082</td>\n",
       "      <td>0.12600</td>\n",
       "      <td>0.31287</td>\n",
       "      <td>-0.57545</td>\n",
       "      <td>-0.58331</td>\n",
       "      <td>-0.91699</td>\n",
       "      <td>-0.00665</td>\n",
       "      <td>...</td>\n",
       "      <td>CL0</td>\n",
       "      <td>CL0</td>\n",
       "      <td>CL0</td>\n",
       "      <td>CL0</td>\n",
       "      <td>CL0</td>\n",
       "      <td>CL0</td>\n",
       "      <td>CL0</td>\n",
       "      <td>CL2</td>\n",
       "      <td>CL0</td>\n",
       "      <td>CL0</td>\n",
       "    </tr>\n",
       "    <tr>\n",
       "      <th>1</th>\n",
       "      <td>-0.07854</td>\n",
       "      <td>-0.48246</td>\n",
       "      <td>1.98437</td>\n",
       "      <td>0.96082</td>\n",
       "      <td>-0.31685</td>\n",
       "      <td>-0.67825</td>\n",
       "      <td>1.93886</td>\n",
       "      <td>1.43533</td>\n",
       "      <td>0.76096</td>\n",
       "      <td>-0.14277</td>\n",
       "      <td>...</td>\n",
       "      <td>CL4</td>\n",
       "      <td>CL0</td>\n",
       "      <td>CL2</td>\n",
       "      <td>CL0</td>\n",
       "      <td>CL2</td>\n",
       "      <td>CL3</td>\n",
       "      <td>CL0</td>\n",
       "      <td>CL4</td>\n",
       "      <td>CL0</td>\n",
       "      <td>CL0</td>\n",
       "    </tr>\n",
       "    <tr>\n",
       "      <th>2</th>\n",
       "      <td>0.49788</td>\n",
       "      <td>-0.48246</td>\n",
       "      <td>-0.05921</td>\n",
       "      <td>0.96082</td>\n",
       "      <td>-0.31685</td>\n",
       "      <td>-0.46725</td>\n",
       "      <td>0.80523</td>\n",
       "      <td>-0.84732</td>\n",
       "      <td>-1.62090</td>\n",
       "      <td>-1.01450</td>\n",
       "      <td>...</td>\n",
       "      <td>CL0</td>\n",
       "      <td>CL0</td>\n",
       "      <td>CL0</td>\n",
       "      <td>CL0</td>\n",
       "      <td>CL0</td>\n",
       "      <td>CL0</td>\n",
       "      <td>CL1</td>\n",
       "      <td>CL0</td>\n",
       "      <td>CL0</td>\n",
       "      <td>CL0</td>\n",
       "    </tr>\n",
       "    <tr>\n",
       "      <th>3</th>\n",
       "      <td>-0.95197</td>\n",
       "      <td>0.48246</td>\n",
       "      <td>1.16365</td>\n",
       "      <td>0.96082</td>\n",
       "      <td>-0.31685</td>\n",
       "      <td>-0.14882</td>\n",
       "      <td>-0.80615</td>\n",
       "      <td>-0.01928</td>\n",
       "      <td>0.59042</td>\n",
       "      <td>0.58489</td>\n",
       "      <td>...</td>\n",
       "      <td>CL0</td>\n",
       "      <td>CL0</td>\n",
       "      <td>CL2</td>\n",
       "      <td>CL0</td>\n",
       "      <td>CL0</td>\n",
       "      <td>CL0</td>\n",
       "      <td>CL0</td>\n",
       "      <td>CL2</td>\n",
       "      <td>CL0</td>\n",
       "      <td>CL0</td>\n",
       "    </tr>\n",
       "    <tr>\n",
       "      <th>4</th>\n",
       "      <td>0.49788</td>\n",
       "      <td>0.48246</td>\n",
       "      <td>1.98437</td>\n",
       "      <td>0.96082</td>\n",
       "      <td>-0.31685</td>\n",
       "      <td>0.73545</td>\n",
       "      <td>-1.63340</td>\n",
       "      <td>-0.45174</td>\n",
       "      <td>-0.30172</td>\n",
       "      <td>1.30612</td>\n",
       "      <td>...</td>\n",
       "      <td>CL1</td>\n",
       "      <td>CL0</td>\n",
       "      <td>CL0</td>\n",
       "      <td>CL1</td>\n",
       "      <td>CL0</td>\n",
       "      <td>CL0</td>\n",
       "      <td>CL2</td>\n",
       "      <td>CL2</td>\n",
       "      <td>CL0</td>\n",
       "      <td>CL0</td>\n",
       "    </tr>\n",
       "  </tbody>\n",
       "</table>\n",
       "<p>5 rows × 31 columns</p>\n",
       "</div>"
      ],
      "text/plain": [
       "       Age   Gender  Education  Country  Ethnicity   Nscore   Escore   Oscore  \\\n",
       "0  0.49788  0.48246   -0.05921  0.96082    0.12600  0.31287 -0.57545 -0.58331   \n",
       "1 -0.07854 -0.48246    1.98437  0.96082   -0.31685 -0.67825  1.93886  1.43533   \n",
       "2  0.49788 -0.48246   -0.05921  0.96082   -0.31685 -0.46725  0.80523 -0.84732   \n",
       "3 -0.95197  0.48246    1.16365  0.96082   -0.31685 -0.14882 -0.80615 -0.01928   \n",
       "4  0.49788  0.48246    1.98437  0.96082   -0.31685  0.73545 -1.63340 -0.45174   \n",
       "\n",
       "    Ascore   Cscore ...   Ecstasy  Heroin Ketamine Legal_Highs  LSD Methadone  \\\n",
       "0 -0.91699 -0.00665 ...       CL0     CL0      CL0         CL0  CL0       CL0   \n",
       "1  0.76096 -0.14277 ...       CL4     CL0      CL2         CL0  CL2       CL3   \n",
       "2 -1.62090 -1.01450 ...       CL0     CL0      CL0         CL0  CL0       CL0   \n",
       "3  0.59042  0.58489 ...       CL0     CL0      CL2         CL0  CL0       CL0   \n",
       "4 -0.30172  1.30612 ...       CL1     CL0      CL0         CL1  CL0       CL0   \n",
       "\n",
       "  Mushrooms Nicotine Semeron  VSA  \n",
       "0       CL0      CL2     CL0  CL0  \n",
       "1       CL0      CL4     CL0  CL0  \n",
       "2       CL1      CL0     CL0  CL0  \n",
       "3       CL0      CL2     CL0  CL0  \n",
       "4       CL2      CL2     CL0  CL0  \n",
       "\n",
       "[5 rows x 31 columns]"
      ]
     },
     "execution_count": 8,
     "metadata": {},
     "output_type": "execute_result"
    }
   ],
   "source": [
    "# Multilevel_df\n",
    "multilevel_df = drug_data.copy()\n",
    "multilevel_df.head()"
   ]
  },
  {
   "cell_type": "code",
   "execution_count": 9,
   "metadata": {},
   "outputs": [
    {
     "data": {
      "text/plain": [
       "['Alcohol',\n",
       " 'Amphetamines',\n",
       " 'Amyl_Nitrite',\n",
       " 'Benzos',\n",
       " 'Caffeine',\n",
       " 'Cannabis',\n",
       " 'Chocolate',\n",
       " 'Cocaine',\n",
       " 'Crack',\n",
       " 'Ecstasy',\n",
       " 'Heroin',\n",
       " 'Ketamine',\n",
       " 'Legal_Highs',\n",
       " 'LSD',\n",
       " 'Methadone',\n",
       " 'Mushrooms',\n",
       " 'Nicotine',\n",
       " 'Semeron',\n",
       " 'VSA']"
      ]
     },
     "execution_count": 9,
     "metadata": {},
     "output_type": "execute_result"
    }
   ],
   "source": [
    "list(multilevel_df.columns[12:].values)"
   ]
  },
  {
   "cell_type": "markdown",
   "metadata": {},
   "source": [
    "For purposes of this binary classification analysis, a non-user will anyone who either hasn't used in more than 10 years or has never used. Everyone else will be classified as a user.\n"
   ]
  },
  {
   "cell_type": "code",
   "execution_count": 10,
   "metadata": {
    "scrolled": false
   },
   "outputs": [
    {
     "data": {
      "text/plain": [
       "['Alcohol',\n",
       " 'Amphetamines',\n",
       " 'Amyl_Nitrite',\n",
       " 'Benzos',\n",
       " 'Caffeine',\n",
       " 'Cannabis',\n",
       " 'Chocolate',\n",
       " 'Cocaine',\n",
       " 'Crack',\n",
       " 'Ecstasy',\n",
       " 'Heroin',\n",
       " 'Ketamine',\n",
       " 'Legal_Highs',\n",
       " 'LSD',\n",
       " 'Methadone',\n",
       " 'Mushrooms',\n",
       " 'Nicotine',\n",
       " 'Semeron',\n",
       " 'VSA']"
      ]
     },
     "execution_count": 10,
     "metadata": {},
     "output_type": "execute_result"
    }
   ],
   "source": [
    "list(binary_df.columns[12:].values)"
   ]
  },
  {
   "cell_type": "markdown",
   "metadata": {},
   "source": [
    "# <font color='green'> Feature Engineering </font>"
   ]
  },
  {
   "cell_type": "markdown",
   "metadata": {},
   "source": [
    "Below, I create a few features that I will use for classification.\n",
    "- User_drugname columns that are binary indicators of whether or not someone is a user of a given drug. I classified someone as a user if they have used the drug in the past 10 years. If they never used the drug(CL0) or they have not used the drug in over a decade (CL1), then they are classified as a non user\n",
    "- Created new columns to inidicate whether or not someone was a user of LEGAL drugs (caffeine, chocolate, alcohol), a cigarette smoker (nicotine user), a user of cannabis (a semi-legal drug), or a user of ILLEGAL drugs."
   ]
  },
  {
   "cell_type": "markdown",
   "metadata": {},
   "source": [
    "# <font color='green'> Scope of Classification </font>"
   ]
  },
  {
   "cell_type": "markdown",
   "metadata": {},
   "source": [
    "For the purposes of this project, I will be attempting to build a model that can classify individuals as users or non-users for three different types of drug. \n",
    "\n",
    "1. Nicotine\n",
    "2. Cannabis\n",
    "3. All other ILLEGAL drugs\n",
    "\n",
    "Originally, I had wanted to include a classifier of whether or not someone used LEGAL drugs (alcohol, caffeine, and chocolate). However, as illustrated below, the count of participants who were \"non-users\" of these three drugs was only 3 people, as such designing a model to predict these 3 individuals would probably be overfitted. Due to the lack of sufficient training data for the legal drugs, I opted to exclude a classifying model for these drugs. \n",
    "\n",
    "In order to perform this analysis in the future, the survey needs to be sent to a more balanced group of legal drug users and non users. In other words, there needs to be a bigger sample base of non-users of chocolate, caffeine, and alcohol to make analysis meaningful. "
   ]
  },
  {
   "cell_type": "code",
   "execution_count": 11,
   "metadata": {},
   "outputs": [],
   "source": [
    "user_labels = ['User_Alcohol','User_Amphet', 'User_Amyl', 'User_Benzos', 'User_Caff', 'User_Cannabis', 'User_Choc', \n",
    "               'User_Coke', 'User_Crack', 'User_Ecstasy', 'User_Heroin', 'User_Ketamine', 'User_Legalh', 'User_LSD', \n",
    "               'User_Meth', 'User_Mushrooms','User_Nicotine', 'User_Semer', 'User_VSA']"
   ]
  },
  {
   "cell_type": "code",
   "execution_count": 12,
   "metadata": {},
   "outputs": [],
   "source": [
    "columns = list(binary_df.columns[12:].values)"
   ]
  },
  {
   "cell_type": "code",
   "execution_count": 13,
   "metadata": {},
   "outputs": [],
   "source": [
    "#First, I'll label encode them using sklearn, this will make classifications easier.\n",
    "#I'll do this for both dataframes (binary and multilevel)\n",
    "\n",
    "for column in columns:\n",
    "    le = LabelEncoder()\n",
    "    binary_df[column] = le.fit_transform(binary_df[column])\n",
    "    multilevel_df[column] = le.fit_transform(multilevel_df[column])"
   ]
  },
  {
   "cell_type": "code",
   "execution_count": 14,
   "metadata": {},
   "outputs": [
    {
     "data": {
      "text/html": [
       "<div>\n",
       "<style scoped>\n",
       "    .dataframe tbody tr th:only-of-type {\n",
       "        vertical-align: middle;\n",
       "    }\n",
       "\n",
       "    .dataframe tbody tr th {\n",
       "        vertical-align: top;\n",
       "    }\n",
       "\n",
       "    .dataframe thead th {\n",
       "        text-align: right;\n",
       "    }\n",
       "</style>\n",
       "<table border=\"1\" class=\"dataframe\">\n",
       "  <thead>\n",
       "    <tr style=\"text-align: right;\">\n",
       "      <th></th>\n",
       "      <th>Age</th>\n",
       "      <th>Gender</th>\n",
       "      <th>Education</th>\n",
       "      <th>Country</th>\n",
       "      <th>Ethnicity</th>\n",
       "      <th>Nscore</th>\n",
       "      <th>Escore</th>\n",
       "      <th>Oscore</th>\n",
       "      <th>Ascore</th>\n",
       "      <th>Cscore</th>\n",
       "      <th>...</th>\n",
       "      <th>Ecstasy</th>\n",
       "      <th>Heroin</th>\n",
       "      <th>Ketamine</th>\n",
       "      <th>Legal_Highs</th>\n",
       "      <th>LSD</th>\n",
       "      <th>Methadone</th>\n",
       "      <th>Mushrooms</th>\n",
       "      <th>Nicotine</th>\n",
       "      <th>Semeron</th>\n",
       "      <th>VSA</th>\n",
       "    </tr>\n",
       "  </thead>\n",
       "  <tbody>\n",
       "    <tr>\n",
       "      <th>0</th>\n",
       "      <td>0.49788</td>\n",
       "      <td>0.48246</td>\n",
       "      <td>-0.05921</td>\n",
       "      <td>0.96082</td>\n",
       "      <td>0.12600</td>\n",
       "      <td>0.31287</td>\n",
       "      <td>-0.57545</td>\n",
       "      <td>-0.58331</td>\n",
       "      <td>-0.91699</td>\n",
       "      <td>-0.00665</td>\n",
       "      <td>...</td>\n",
       "      <td>0</td>\n",
       "      <td>0</td>\n",
       "      <td>0</td>\n",
       "      <td>0</td>\n",
       "      <td>0</td>\n",
       "      <td>0</td>\n",
       "      <td>0</td>\n",
       "      <td>2</td>\n",
       "      <td>0</td>\n",
       "      <td>0</td>\n",
       "    </tr>\n",
       "    <tr>\n",
       "      <th>1</th>\n",
       "      <td>-0.07854</td>\n",
       "      <td>-0.48246</td>\n",
       "      <td>1.98437</td>\n",
       "      <td>0.96082</td>\n",
       "      <td>-0.31685</td>\n",
       "      <td>-0.67825</td>\n",
       "      <td>1.93886</td>\n",
       "      <td>1.43533</td>\n",
       "      <td>0.76096</td>\n",
       "      <td>-0.14277</td>\n",
       "      <td>...</td>\n",
       "      <td>4</td>\n",
       "      <td>0</td>\n",
       "      <td>2</td>\n",
       "      <td>0</td>\n",
       "      <td>2</td>\n",
       "      <td>3</td>\n",
       "      <td>0</td>\n",
       "      <td>4</td>\n",
       "      <td>0</td>\n",
       "      <td>0</td>\n",
       "    </tr>\n",
       "    <tr>\n",
       "      <th>2</th>\n",
       "      <td>0.49788</td>\n",
       "      <td>-0.48246</td>\n",
       "      <td>-0.05921</td>\n",
       "      <td>0.96082</td>\n",
       "      <td>-0.31685</td>\n",
       "      <td>-0.46725</td>\n",
       "      <td>0.80523</td>\n",
       "      <td>-0.84732</td>\n",
       "      <td>-1.62090</td>\n",
       "      <td>-1.01450</td>\n",
       "      <td>...</td>\n",
       "      <td>0</td>\n",
       "      <td>0</td>\n",
       "      <td>0</td>\n",
       "      <td>0</td>\n",
       "      <td>0</td>\n",
       "      <td>0</td>\n",
       "      <td>1</td>\n",
       "      <td>0</td>\n",
       "      <td>0</td>\n",
       "      <td>0</td>\n",
       "    </tr>\n",
       "    <tr>\n",
       "      <th>3</th>\n",
       "      <td>-0.95197</td>\n",
       "      <td>0.48246</td>\n",
       "      <td>1.16365</td>\n",
       "      <td>0.96082</td>\n",
       "      <td>-0.31685</td>\n",
       "      <td>-0.14882</td>\n",
       "      <td>-0.80615</td>\n",
       "      <td>-0.01928</td>\n",
       "      <td>0.59042</td>\n",
       "      <td>0.58489</td>\n",
       "      <td>...</td>\n",
       "      <td>0</td>\n",
       "      <td>0</td>\n",
       "      <td>2</td>\n",
       "      <td>0</td>\n",
       "      <td>0</td>\n",
       "      <td>0</td>\n",
       "      <td>0</td>\n",
       "      <td>2</td>\n",
       "      <td>0</td>\n",
       "      <td>0</td>\n",
       "    </tr>\n",
       "    <tr>\n",
       "      <th>4</th>\n",
       "      <td>0.49788</td>\n",
       "      <td>0.48246</td>\n",
       "      <td>1.98437</td>\n",
       "      <td>0.96082</td>\n",
       "      <td>-0.31685</td>\n",
       "      <td>0.73545</td>\n",
       "      <td>-1.63340</td>\n",
       "      <td>-0.45174</td>\n",
       "      <td>-0.30172</td>\n",
       "      <td>1.30612</td>\n",
       "      <td>...</td>\n",
       "      <td>1</td>\n",
       "      <td>0</td>\n",
       "      <td>0</td>\n",
       "      <td>1</td>\n",
       "      <td>0</td>\n",
       "      <td>0</td>\n",
       "      <td>2</td>\n",
       "      <td>2</td>\n",
       "      <td>0</td>\n",
       "      <td>0</td>\n",
       "    </tr>\n",
       "  </tbody>\n",
       "</table>\n",
       "<p>5 rows × 31 columns</p>\n",
       "</div>"
      ],
      "text/plain": [
       "       Age   Gender  Education  Country  Ethnicity   Nscore   Escore   Oscore  \\\n",
       "0  0.49788  0.48246   -0.05921  0.96082    0.12600  0.31287 -0.57545 -0.58331   \n",
       "1 -0.07854 -0.48246    1.98437  0.96082   -0.31685 -0.67825  1.93886  1.43533   \n",
       "2  0.49788 -0.48246   -0.05921  0.96082   -0.31685 -0.46725  0.80523 -0.84732   \n",
       "3 -0.95197  0.48246    1.16365  0.96082   -0.31685 -0.14882 -0.80615 -0.01928   \n",
       "4  0.49788  0.48246    1.98437  0.96082   -0.31685  0.73545 -1.63340 -0.45174   \n",
       "\n",
       "    Ascore   Cscore ...   Ecstasy  Heroin  Ketamine  Legal_Highs  LSD  \\\n",
       "0 -0.91699 -0.00665 ...         0       0         0            0    0   \n",
       "1  0.76096 -0.14277 ...         4       0         2            0    2   \n",
       "2 -1.62090 -1.01450 ...         0       0         0            0    0   \n",
       "3  0.59042  0.58489 ...         0       0         2            0    0   \n",
       "4 -0.30172  1.30612 ...         1       0         0            1    0   \n",
       "\n",
       "   Methadone  Mushrooms  Nicotine  Semeron  VSA  \n",
       "0          0          0         2        0    0  \n",
       "1          3          0         4        0    0  \n",
       "2          0          1         0        0    0  \n",
       "3          0          0         2        0    0  \n",
       "4          0          2         2        0    0  \n",
       "\n",
       "[5 rows x 31 columns]"
      ]
     },
     "execution_count": 14,
     "metadata": {},
     "output_type": "execute_result"
    }
   ],
   "source": [
    "# This is the final version of the multilevel dataframe.\n",
    "multilevel_df.head()"
   ]
  },
  {
   "cell_type": "code",
   "execution_count": 15,
   "metadata": {},
   "outputs": [],
   "source": [
    "for i in range(len(columns)):\n",
    "    binary_df.loc[((binary_df[columns[i]] == 0) | (binary_df[columns[i]] == 1)), user_labels[i]] = 'Non-user'\n",
    "    binary_df.loc[((binary_df[columns[i]] == 2) | (binary_df[columns[i]] == 3) | (binary_df[columns[i]] == 4)\n",
    "                  | (binary_df[columns[i]] == 5) | (binary_df[columns[i]] == 6)), user_labels[i]] = 'User'"
   ]
  },
  {
   "cell_type": "code",
   "execution_count": 16,
   "metadata": {},
   "outputs": [
    {
     "data": {
      "text/html": [
       "<div>\n",
       "<style scoped>\n",
       "    .dataframe tbody tr th:only-of-type {\n",
       "        vertical-align: middle;\n",
       "    }\n",
       "\n",
       "    .dataframe tbody tr th {\n",
       "        vertical-align: top;\n",
       "    }\n",
       "\n",
       "    .dataframe thead th {\n",
       "        text-align: right;\n",
       "    }\n",
       "</style>\n",
       "<table border=\"1\" class=\"dataframe\">\n",
       "  <thead>\n",
       "    <tr style=\"text-align: right;\">\n",
       "      <th></th>\n",
       "      <th>Age</th>\n",
       "      <th>Gender</th>\n",
       "      <th>Education</th>\n",
       "      <th>Country</th>\n",
       "      <th>Ethnicity</th>\n",
       "      <th>Nscore</th>\n",
       "      <th>Escore</th>\n",
       "      <th>Oscore</th>\n",
       "      <th>Ascore</th>\n",
       "      <th>Cscore</th>\n",
       "      <th>...</th>\n",
       "      <th>User_Ecstasy</th>\n",
       "      <th>User_Heroin</th>\n",
       "      <th>User_Ketamine</th>\n",
       "      <th>User_Legalh</th>\n",
       "      <th>User_LSD</th>\n",
       "      <th>User_Meth</th>\n",
       "      <th>User_Mushrooms</th>\n",
       "      <th>User_Nicotine</th>\n",
       "      <th>User_Semer</th>\n",
       "      <th>User_VSA</th>\n",
       "    </tr>\n",
       "  </thead>\n",
       "  <tbody>\n",
       "    <tr>\n",
       "      <th>0</th>\n",
       "      <td>0.49788</td>\n",
       "      <td>0.48246</td>\n",
       "      <td>-0.05921</td>\n",
       "      <td>0.96082</td>\n",
       "      <td>0.12600</td>\n",
       "      <td>0.31287</td>\n",
       "      <td>-0.57545</td>\n",
       "      <td>-0.58331</td>\n",
       "      <td>-0.91699</td>\n",
       "      <td>-0.00665</td>\n",
       "      <td>...</td>\n",
       "      <td>Non-user</td>\n",
       "      <td>Non-user</td>\n",
       "      <td>Non-user</td>\n",
       "      <td>Non-user</td>\n",
       "      <td>Non-user</td>\n",
       "      <td>Non-user</td>\n",
       "      <td>Non-user</td>\n",
       "      <td>User</td>\n",
       "      <td>Non-user</td>\n",
       "      <td>Non-user</td>\n",
       "    </tr>\n",
       "    <tr>\n",
       "      <th>1</th>\n",
       "      <td>-0.07854</td>\n",
       "      <td>-0.48246</td>\n",
       "      <td>1.98437</td>\n",
       "      <td>0.96082</td>\n",
       "      <td>-0.31685</td>\n",
       "      <td>-0.67825</td>\n",
       "      <td>1.93886</td>\n",
       "      <td>1.43533</td>\n",
       "      <td>0.76096</td>\n",
       "      <td>-0.14277</td>\n",
       "      <td>...</td>\n",
       "      <td>User</td>\n",
       "      <td>Non-user</td>\n",
       "      <td>User</td>\n",
       "      <td>Non-user</td>\n",
       "      <td>User</td>\n",
       "      <td>User</td>\n",
       "      <td>Non-user</td>\n",
       "      <td>User</td>\n",
       "      <td>Non-user</td>\n",
       "      <td>Non-user</td>\n",
       "    </tr>\n",
       "    <tr>\n",
       "      <th>2</th>\n",
       "      <td>0.49788</td>\n",
       "      <td>-0.48246</td>\n",
       "      <td>-0.05921</td>\n",
       "      <td>0.96082</td>\n",
       "      <td>-0.31685</td>\n",
       "      <td>-0.46725</td>\n",
       "      <td>0.80523</td>\n",
       "      <td>-0.84732</td>\n",
       "      <td>-1.62090</td>\n",
       "      <td>-1.01450</td>\n",
       "      <td>...</td>\n",
       "      <td>Non-user</td>\n",
       "      <td>Non-user</td>\n",
       "      <td>Non-user</td>\n",
       "      <td>Non-user</td>\n",
       "      <td>Non-user</td>\n",
       "      <td>Non-user</td>\n",
       "      <td>Non-user</td>\n",
       "      <td>Non-user</td>\n",
       "      <td>Non-user</td>\n",
       "      <td>Non-user</td>\n",
       "    </tr>\n",
       "    <tr>\n",
       "      <th>3</th>\n",
       "      <td>-0.95197</td>\n",
       "      <td>0.48246</td>\n",
       "      <td>1.16365</td>\n",
       "      <td>0.96082</td>\n",
       "      <td>-0.31685</td>\n",
       "      <td>-0.14882</td>\n",
       "      <td>-0.80615</td>\n",
       "      <td>-0.01928</td>\n",
       "      <td>0.59042</td>\n",
       "      <td>0.58489</td>\n",
       "      <td>...</td>\n",
       "      <td>Non-user</td>\n",
       "      <td>Non-user</td>\n",
       "      <td>User</td>\n",
       "      <td>Non-user</td>\n",
       "      <td>Non-user</td>\n",
       "      <td>Non-user</td>\n",
       "      <td>Non-user</td>\n",
       "      <td>User</td>\n",
       "      <td>Non-user</td>\n",
       "      <td>Non-user</td>\n",
       "    </tr>\n",
       "    <tr>\n",
       "      <th>4</th>\n",
       "      <td>0.49788</td>\n",
       "      <td>0.48246</td>\n",
       "      <td>1.98437</td>\n",
       "      <td>0.96082</td>\n",
       "      <td>-0.31685</td>\n",
       "      <td>0.73545</td>\n",
       "      <td>-1.63340</td>\n",
       "      <td>-0.45174</td>\n",
       "      <td>-0.30172</td>\n",
       "      <td>1.30612</td>\n",
       "      <td>...</td>\n",
       "      <td>Non-user</td>\n",
       "      <td>Non-user</td>\n",
       "      <td>Non-user</td>\n",
       "      <td>Non-user</td>\n",
       "      <td>Non-user</td>\n",
       "      <td>Non-user</td>\n",
       "      <td>User</td>\n",
       "      <td>User</td>\n",
       "      <td>Non-user</td>\n",
       "      <td>Non-user</td>\n",
       "    </tr>\n",
       "  </tbody>\n",
       "</table>\n",
       "<p>5 rows × 50 columns</p>\n",
       "</div>"
      ],
      "text/plain": [
       "       Age   Gender  Education  Country  Ethnicity   Nscore   Escore   Oscore  \\\n",
       "0  0.49788  0.48246   -0.05921  0.96082    0.12600  0.31287 -0.57545 -0.58331   \n",
       "1 -0.07854 -0.48246    1.98437  0.96082   -0.31685 -0.67825  1.93886  1.43533   \n",
       "2  0.49788 -0.48246   -0.05921  0.96082   -0.31685 -0.46725  0.80523 -0.84732   \n",
       "3 -0.95197  0.48246    1.16365  0.96082   -0.31685 -0.14882 -0.80615 -0.01928   \n",
       "4  0.49788  0.48246    1.98437  0.96082   -0.31685  0.73545 -1.63340 -0.45174   \n",
       "\n",
       "    Ascore   Cscore    ...     User_Ecstasy  User_Heroin  User_Ketamine  \\\n",
       "0 -0.91699 -0.00665    ...         Non-user     Non-user       Non-user   \n",
       "1  0.76096 -0.14277    ...             User     Non-user           User   \n",
       "2 -1.62090 -1.01450    ...         Non-user     Non-user       Non-user   \n",
       "3  0.59042  0.58489    ...         Non-user     Non-user           User   \n",
       "4 -0.30172  1.30612    ...         Non-user     Non-user       Non-user   \n",
       "\n",
       "   User_Legalh  User_LSD  User_Meth  User_Mushrooms  User_Nicotine  \\\n",
       "0     Non-user  Non-user   Non-user        Non-user           User   \n",
       "1     Non-user      User       User        Non-user           User   \n",
       "2     Non-user  Non-user   Non-user        Non-user       Non-user   \n",
       "3     Non-user  Non-user   Non-user        Non-user           User   \n",
       "4     Non-user  Non-user   Non-user            User           User   \n",
       "\n",
       "   User_Semer  User_VSA  \n",
       "0    Non-user  Non-user  \n",
       "1    Non-user  Non-user  \n",
       "2    Non-user  Non-user  \n",
       "3    Non-user  Non-user  \n",
       "4    Non-user  Non-user  \n",
       "\n",
       "[5 rows x 50 columns]"
      ]
     },
     "execution_count": 16,
     "metadata": {},
     "output_type": "execute_result"
    }
   ],
   "source": [
    "binary_df.head()"
   ]
  },
  {
   "cell_type": "code",
   "execution_count": 17,
   "metadata": {},
   "outputs": [],
   "source": [
    "# One- hot encoding these now (could do this in loop above, but I like the line of code above for visualization)\n",
    "for column in binary_df.columns[-19:]:\n",
    "    le = LabelEncoder()\n",
    "    binary_df[column] = le.fit_transform(binary_df[column])"
   ]
  },
  {
   "cell_type": "code",
   "execution_count": 18,
   "metadata": {},
   "outputs": [
    {
     "data": {
      "text/html": [
       "<div>\n",
       "<style scoped>\n",
       "    .dataframe tbody tr th:only-of-type {\n",
       "        vertical-align: middle;\n",
       "    }\n",
       "\n",
       "    .dataframe tbody tr th {\n",
       "        vertical-align: top;\n",
       "    }\n",
       "\n",
       "    .dataframe thead th {\n",
       "        text-align: right;\n",
       "    }\n",
       "</style>\n",
       "<table border=\"1\" class=\"dataframe\">\n",
       "  <thead>\n",
       "    <tr style=\"text-align: right;\">\n",
       "      <th></th>\n",
       "      <th>Age</th>\n",
       "      <th>Gender</th>\n",
       "      <th>Education</th>\n",
       "      <th>Country</th>\n",
       "      <th>Ethnicity</th>\n",
       "      <th>Nscore</th>\n",
       "      <th>Escore</th>\n",
       "      <th>Oscore</th>\n",
       "      <th>Ascore</th>\n",
       "      <th>Cscore</th>\n",
       "      <th>...</th>\n",
       "      <th>User_Ecstasy</th>\n",
       "      <th>User_Heroin</th>\n",
       "      <th>User_Ketamine</th>\n",
       "      <th>User_Legalh</th>\n",
       "      <th>User_LSD</th>\n",
       "      <th>User_Meth</th>\n",
       "      <th>User_Mushrooms</th>\n",
       "      <th>User_Nicotine</th>\n",
       "      <th>User_Semer</th>\n",
       "      <th>User_VSA</th>\n",
       "    </tr>\n",
       "  </thead>\n",
       "  <tbody>\n",
       "    <tr>\n",
       "      <th>0</th>\n",
       "      <td>0.49788</td>\n",
       "      <td>0.48246</td>\n",
       "      <td>-0.05921</td>\n",
       "      <td>0.96082</td>\n",
       "      <td>0.12600</td>\n",
       "      <td>0.31287</td>\n",
       "      <td>-0.57545</td>\n",
       "      <td>-0.58331</td>\n",
       "      <td>-0.91699</td>\n",
       "      <td>-0.00665</td>\n",
       "      <td>...</td>\n",
       "      <td>0</td>\n",
       "      <td>0</td>\n",
       "      <td>0</td>\n",
       "      <td>0</td>\n",
       "      <td>0</td>\n",
       "      <td>0</td>\n",
       "      <td>0</td>\n",
       "      <td>1</td>\n",
       "      <td>0</td>\n",
       "      <td>0</td>\n",
       "    </tr>\n",
       "    <tr>\n",
       "      <th>1</th>\n",
       "      <td>-0.07854</td>\n",
       "      <td>-0.48246</td>\n",
       "      <td>1.98437</td>\n",
       "      <td>0.96082</td>\n",
       "      <td>-0.31685</td>\n",
       "      <td>-0.67825</td>\n",
       "      <td>1.93886</td>\n",
       "      <td>1.43533</td>\n",
       "      <td>0.76096</td>\n",
       "      <td>-0.14277</td>\n",
       "      <td>...</td>\n",
       "      <td>1</td>\n",
       "      <td>0</td>\n",
       "      <td>1</td>\n",
       "      <td>0</td>\n",
       "      <td>1</td>\n",
       "      <td>1</td>\n",
       "      <td>0</td>\n",
       "      <td>1</td>\n",
       "      <td>0</td>\n",
       "      <td>0</td>\n",
       "    </tr>\n",
       "    <tr>\n",
       "      <th>2</th>\n",
       "      <td>0.49788</td>\n",
       "      <td>-0.48246</td>\n",
       "      <td>-0.05921</td>\n",
       "      <td>0.96082</td>\n",
       "      <td>-0.31685</td>\n",
       "      <td>-0.46725</td>\n",
       "      <td>0.80523</td>\n",
       "      <td>-0.84732</td>\n",
       "      <td>-1.62090</td>\n",
       "      <td>-1.01450</td>\n",
       "      <td>...</td>\n",
       "      <td>0</td>\n",
       "      <td>0</td>\n",
       "      <td>0</td>\n",
       "      <td>0</td>\n",
       "      <td>0</td>\n",
       "      <td>0</td>\n",
       "      <td>0</td>\n",
       "      <td>0</td>\n",
       "      <td>0</td>\n",
       "      <td>0</td>\n",
       "    </tr>\n",
       "    <tr>\n",
       "      <th>3</th>\n",
       "      <td>-0.95197</td>\n",
       "      <td>0.48246</td>\n",
       "      <td>1.16365</td>\n",
       "      <td>0.96082</td>\n",
       "      <td>-0.31685</td>\n",
       "      <td>-0.14882</td>\n",
       "      <td>-0.80615</td>\n",
       "      <td>-0.01928</td>\n",
       "      <td>0.59042</td>\n",
       "      <td>0.58489</td>\n",
       "      <td>...</td>\n",
       "      <td>0</td>\n",
       "      <td>0</td>\n",
       "      <td>1</td>\n",
       "      <td>0</td>\n",
       "      <td>0</td>\n",
       "      <td>0</td>\n",
       "      <td>0</td>\n",
       "      <td>1</td>\n",
       "      <td>0</td>\n",
       "      <td>0</td>\n",
       "    </tr>\n",
       "    <tr>\n",
       "      <th>4</th>\n",
       "      <td>0.49788</td>\n",
       "      <td>0.48246</td>\n",
       "      <td>1.98437</td>\n",
       "      <td>0.96082</td>\n",
       "      <td>-0.31685</td>\n",
       "      <td>0.73545</td>\n",
       "      <td>-1.63340</td>\n",
       "      <td>-0.45174</td>\n",
       "      <td>-0.30172</td>\n",
       "      <td>1.30612</td>\n",
       "      <td>...</td>\n",
       "      <td>0</td>\n",
       "      <td>0</td>\n",
       "      <td>0</td>\n",
       "      <td>0</td>\n",
       "      <td>0</td>\n",
       "      <td>0</td>\n",
       "      <td>1</td>\n",
       "      <td>1</td>\n",
       "      <td>0</td>\n",
       "      <td>0</td>\n",
       "    </tr>\n",
       "  </tbody>\n",
       "</table>\n",
       "<p>5 rows × 50 columns</p>\n",
       "</div>"
      ],
      "text/plain": [
       "       Age   Gender  Education  Country  Ethnicity   Nscore   Escore   Oscore  \\\n",
       "0  0.49788  0.48246   -0.05921  0.96082    0.12600  0.31287 -0.57545 -0.58331   \n",
       "1 -0.07854 -0.48246    1.98437  0.96082   -0.31685 -0.67825  1.93886  1.43533   \n",
       "2  0.49788 -0.48246   -0.05921  0.96082   -0.31685 -0.46725  0.80523 -0.84732   \n",
       "3 -0.95197  0.48246    1.16365  0.96082   -0.31685 -0.14882 -0.80615 -0.01928   \n",
       "4  0.49788  0.48246    1.98437  0.96082   -0.31685  0.73545 -1.63340 -0.45174   \n",
       "\n",
       "    Ascore   Cscore    ...     User_Ecstasy  User_Heroin  User_Ketamine  \\\n",
       "0 -0.91699 -0.00665    ...                0            0              0   \n",
       "1  0.76096 -0.14277    ...                1            0              1   \n",
       "2 -1.62090 -1.01450    ...                0            0              0   \n",
       "3  0.59042  0.58489    ...                0            0              1   \n",
       "4 -0.30172  1.30612    ...                0            0              0   \n",
       "\n",
       "   User_Legalh  User_LSD  User_Meth  User_Mushrooms  User_Nicotine  \\\n",
       "0            0         0          0               0              1   \n",
       "1            0         1          1               0              1   \n",
       "2            0         0          0               0              0   \n",
       "3            0         0          0               0              1   \n",
       "4            0         0          0               1              1   \n",
       "\n",
       "   User_Semer  User_VSA  \n",
       "0           0         0  \n",
       "1           0         0  \n",
       "2           0         0  \n",
       "3           0         0  \n",
       "4           0         0  \n",
       "\n",
       "[5 rows x 50 columns]"
      ]
     },
     "execution_count": 18,
     "metadata": {},
     "output_type": "execute_result"
    }
   ],
   "source": [
    "binary_df.head()"
   ]
  },
  {
   "cell_type": "code",
   "execution_count": 19,
   "metadata": {
    "scrolled": false
   },
   "outputs": [
    {
     "data": {
      "text/plain": [
       "Index(['User_Alcohol', 'User_Amphet', 'User_Amyl', 'User_Benzos', 'User_Caff',\n",
       "       'User_Cannabis', 'User_Choc', 'User_Coke', 'User_Crack', 'User_Ecstasy',\n",
       "       'User_Heroin', 'User_Ketamine', 'User_Legalh', 'User_LSD', 'User_Meth',\n",
       "       'User_Mushrooms', 'User_Nicotine', 'User_Semer', 'User_VSA'],\n",
       "      dtype='object')"
      ]
     },
     "execution_count": 19,
     "metadata": {},
     "output_type": "execute_result"
    }
   ],
   "source": [
    "binary_df.columns[-19:]"
   ]
  },
  {
   "cell_type": "markdown",
   "metadata": {},
   "source": [
    "Here- I'll check the value counts for each of the classifications areas I want to model. This should help detect class imbalance problems and will be useful as I move into modeling."
   ]
  },
  {
   "cell_type": "code",
   "execution_count": 20,
   "metadata": {},
   "outputs": [
    {
     "data": {
      "text/plain": [
       "1    1265\n",
       "0     620\n",
       "Name: User_Cannabis, dtype: int64"
      ]
     },
     "execution_count": 20,
     "metadata": {},
     "output_type": "execute_result"
    }
   ],
   "source": [
    "binary_df['User_Cannabis'].value_counts()"
   ]
  },
  {
   "cell_type": "code",
   "execution_count": 21,
   "metadata": {},
   "outputs": [
    {
     "data": {
      "text/plain": [
       "1    1264\n",
       "0     621\n",
       "Name: User_Nicotine, dtype: int64"
      ]
     },
     "execution_count": 21,
     "metadata": {},
     "output_type": "execute_result"
    }
   ],
   "source": [
    "binary_df['User_Nicotine'].value_counts()"
   ]
  },
  {
   "cell_type": "code",
   "execution_count": 22,
   "metadata": {},
   "outputs": [
    {
     "data": {
      "text/plain": [
       "3    1762\n",
       "2     109\n",
       "1      11\n",
       "0       3\n",
       "Name: Legal_Total_Use, dtype: int64"
      ]
     },
     "execution_count": 22,
     "metadata": {},
     "output_type": "execute_result"
    }
   ],
   "source": [
    "# Creating TOTAL columns for total use of legal drugs (alcohol, caffeine, chocolate)\n",
    "binary_df['Legal_Total_Use'] = binary_df['User_Alcohol'] + binary_df['User_Caff'] + binary_df['User_Choc']\n",
    "binary_df['Legal_Total_Use'].value_counts()"
   ]
  },
  {
   "cell_type": "markdown",
   "metadata": {},
   "source": [
    "<font color='red'> **Classification NOTE:** </font>Unfortunately, there are only 3 people who fell into the non-user cateogry for legal drugs. As a result, I will not be classifying users vs. non-users of legal drugs since virtually the entire dataframe is a user of at least one legal drug, with an overwhelming majority being a user of all three. This is proof of what is discussed in the 'Scope of Classification' section above."
   ]
  },
  {
   "cell_type": "code",
   "execution_count": 23,
   "metadata": {
    "scrolled": true
   },
   "outputs": [
    {
     "data": {
      "text/plain": [
       "0     638\n",
       "1     238\n",
       "5     136\n",
       "3     136\n",
       "2     134\n",
       "4     129\n",
       "6     106\n",
       "7     100\n",
       "8      95\n",
       "9      78\n",
       "10     56\n",
       "11     29\n",
       "12     10\n",
       "Name: Illegal_Total_Use, dtype: int64"
      ]
     },
     "execution_count": 23,
     "metadata": {},
     "output_type": "execute_result"
    }
   ],
   "source": [
    "# Creating illegal total use column\n",
    "binary_df['Illegal_Total_Use'] = binary_df['User_Amphet'] + binary_df['User_Amyl'] + binary_df['User_Benzos'] + binary_df['User_Coke'] + binary_df['User_Crack'] + binary_df['User_Ecstasy'] + binary_df['User_Heroin'] + binary_df['User_Ketamine'] +binary_df['User_LSD'] + binary_df['User_Meth'] + binary_df['User_Mushrooms'] + binary_df['User_VSA']\n",
    "binary_df['Illegal_Total_Use'].value_counts()\n"
   ]
  },
  {
   "cell_type": "code",
   "execution_count": 24,
   "metadata": {},
   "outputs": [
    {
     "data": {
      "text/plain": [
       "User        1247\n",
       "Non-user     638\n",
       "Name: User_Illegal_Drugs, dtype: int64"
      ]
     },
     "execution_count": 24,
     "metadata": {},
     "output_type": "execute_result"
    }
   ],
   "source": [
    "# Creating User_Illegal_Drugs column to binarize Illegal_Total_Use\n",
    "\n",
    "binary_df.loc[(binary_df['Illegal_Total_Use'] == 0), 'User_Illegal_Drugs'] = 'Non-user'\n",
    "binary_df.loc[(binary_df['Illegal_Total_Use'] != 0), 'User_Illegal_Drugs'] = 'User'\n",
    "binary_df['User_Illegal_Drugs'].value_counts()"
   ]
  },
  {
   "cell_type": "code",
   "execution_count": 25,
   "metadata": {
    "scrolled": true
   },
   "outputs": [
    {
     "data": {
      "text/html": [
       "<div>\n",
       "<style scoped>\n",
       "    .dataframe tbody tr th:only-of-type {\n",
       "        vertical-align: middle;\n",
       "    }\n",
       "\n",
       "    .dataframe tbody tr th {\n",
       "        vertical-align: top;\n",
       "    }\n",
       "\n",
       "    .dataframe thead th {\n",
       "        text-align: right;\n",
       "    }\n",
       "</style>\n",
       "<table border=\"1\" class=\"dataframe\">\n",
       "  <thead>\n",
       "    <tr style=\"text-align: right;\">\n",
       "      <th></th>\n",
       "      <th>Age</th>\n",
       "      <th>Gender</th>\n",
       "      <th>Education</th>\n",
       "      <th>Country</th>\n",
       "      <th>Ethnicity</th>\n",
       "      <th>Nscore</th>\n",
       "      <th>Escore</th>\n",
       "      <th>Oscore</th>\n",
       "      <th>Ascore</th>\n",
       "      <th>Cscore</th>\n",
       "      <th>...</th>\n",
       "      <th>User_Legalh</th>\n",
       "      <th>User_LSD</th>\n",
       "      <th>User_Meth</th>\n",
       "      <th>User_Mushrooms</th>\n",
       "      <th>User_Nicotine</th>\n",
       "      <th>User_Semer</th>\n",
       "      <th>User_VSA</th>\n",
       "      <th>Legal_Total_Use</th>\n",
       "      <th>Illegal_Total_Use</th>\n",
       "      <th>User_Illegal_Drugs</th>\n",
       "    </tr>\n",
       "  </thead>\n",
       "  <tbody>\n",
       "    <tr>\n",
       "      <th>0</th>\n",
       "      <td>0.49788</td>\n",
       "      <td>0.48246</td>\n",
       "      <td>-0.05921</td>\n",
       "      <td>0.96082</td>\n",
       "      <td>0.12600</td>\n",
       "      <td>0.31287</td>\n",
       "      <td>-0.57545</td>\n",
       "      <td>-0.58331</td>\n",
       "      <td>-0.91699</td>\n",
       "      <td>-0.00665</td>\n",
       "      <td>...</td>\n",
       "      <td>0</td>\n",
       "      <td>0</td>\n",
       "      <td>0</td>\n",
       "      <td>0</td>\n",
       "      <td>1</td>\n",
       "      <td>0</td>\n",
       "      <td>0</td>\n",
       "      <td>3</td>\n",
       "      <td>2</td>\n",
       "      <td>1</td>\n",
       "    </tr>\n",
       "    <tr>\n",
       "      <th>1</th>\n",
       "      <td>-0.07854</td>\n",
       "      <td>-0.48246</td>\n",
       "      <td>1.98437</td>\n",
       "      <td>0.96082</td>\n",
       "      <td>-0.31685</td>\n",
       "      <td>-0.67825</td>\n",
       "      <td>1.93886</td>\n",
       "      <td>1.43533</td>\n",
       "      <td>0.76096</td>\n",
       "      <td>-0.14277</td>\n",
       "      <td>...</td>\n",
       "      <td>0</td>\n",
       "      <td>1</td>\n",
       "      <td>1</td>\n",
       "      <td>0</td>\n",
       "      <td>1</td>\n",
       "      <td>0</td>\n",
       "      <td>0</td>\n",
       "      <td>3</td>\n",
       "      <td>7</td>\n",
       "      <td>1</td>\n",
       "    </tr>\n",
       "    <tr>\n",
       "      <th>2</th>\n",
       "      <td>0.49788</td>\n",
       "      <td>-0.48246</td>\n",
       "      <td>-0.05921</td>\n",
       "      <td>0.96082</td>\n",
       "      <td>-0.31685</td>\n",
       "      <td>-0.46725</td>\n",
       "      <td>0.80523</td>\n",
       "      <td>-0.84732</td>\n",
       "      <td>-1.62090</td>\n",
       "      <td>-1.01450</td>\n",
       "      <td>...</td>\n",
       "      <td>0</td>\n",
       "      <td>0</td>\n",
       "      <td>0</td>\n",
       "      <td>0</td>\n",
       "      <td>0</td>\n",
       "      <td>0</td>\n",
       "      <td>0</td>\n",
       "      <td>3</td>\n",
       "      <td>0</td>\n",
       "      <td>0</td>\n",
       "    </tr>\n",
       "    <tr>\n",
       "      <th>3</th>\n",
       "      <td>-0.95197</td>\n",
       "      <td>0.48246</td>\n",
       "      <td>1.16365</td>\n",
       "      <td>0.96082</td>\n",
       "      <td>-0.31685</td>\n",
       "      <td>-0.14882</td>\n",
       "      <td>-0.80615</td>\n",
       "      <td>-0.01928</td>\n",
       "      <td>0.59042</td>\n",
       "      <td>0.58489</td>\n",
       "      <td>...</td>\n",
       "      <td>0</td>\n",
       "      <td>0</td>\n",
       "      <td>0</td>\n",
       "      <td>0</td>\n",
       "      <td>1</td>\n",
       "      <td>0</td>\n",
       "      <td>0</td>\n",
       "      <td>3</td>\n",
       "      <td>3</td>\n",
       "      <td>1</td>\n",
       "    </tr>\n",
       "    <tr>\n",
       "      <th>4</th>\n",
       "      <td>0.49788</td>\n",
       "      <td>0.48246</td>\n",
       "      <td>1.98437</td>\n",
       "      <td>0.96082</td>\n",
       "      <td>-0.31685</td>\n",
       "      <td>0.73545</td>\n",
       "      <td>-1.63340</td>\n",
       "      <td>-0.45174</td>\n",
       "      <td>-0.30172</td>\n",
       "      <td>1.30612</td>\n",
       "      <td>...</td>\n",
       "      <td>0</td>\n",
       "      <td>0</td>\n",
       "      <td>0</td>\n",
       "      <td>1</td>\n",
       "      <td>1</td>\n",
       "      <td>0</td>\n",
       "      <td>0</td>\n",
       "      <td>3</td>\n",
       "      <td>1</td>\n",
       "      <td>1</td>\n",
       "    </tr>\n",
       "  </tbody>\n",
       "</table>\n",
       "<p>5 rows × 53 columns</p>\n",
       "</div>"
      ],
      "text/plain": [
       "       Age   Gender  Education  Country  Ethnicity   Nscore   Escore   Oscore  \\\n",
       "0  0.49788  0.48246   -0.05921  0.96082    0.12600  0.31287 -0.57545 -0.58331   \n",
       "1 -0.07854 -0.48246    1.98437  0.96082   -0.31685 -0.67825  1.93886  1.43533   \n",
       "2  0.49788 -0.48246   -0.05921  0.96082   -0.31685 -0.46725  0.80523 -0.84732   \n",
       "3 -0.95197  0.48246    1.16365  0.96082   -0.31685 -0.14882 -0.80615 -0.01928   \n",
       "4  0.49788  0.48246    1.98437  0.96082   -0.31685  0.73545 -1.63340 -0.45174   \n",
       "\n",
       "    Ascore   Cscore         ...          User_Legalh  User_LSD  User_Meth  \\\n",
       "0 -0.91699 -0.00665         ...                    0         0          0   \n",
       "1  0.76096 -0.14277         ...                    0         1          1   \n",
       "2 -1.62090 -1.01450         ...                    0         0          0   \n",
       "3  0.59042  0.58489         ...                    0         0          0   \n",
       "4 -0.30172  1.30612         ...                    0         0          0   \n",
       "\n",
       "   User_Mushrooms  User_Nicotine  User_Semer  User_VSA  Legal_Total_Use  \\\n",
       "0               0              1           0         0                3   \n",
       "1               0              1           0         0                3   \n",
       "2               0              0           0         0                3   \n",
       "3               0              1           0         0                3   \n",
       "4               1              1           0         0                3   \n",
       "\n",
       "   Illegal_Total_Use  User_Illegal_Drugs  \n",
       "0                  2                   1  \n",
       "1                  7                   1  \n",
       "2                  0                   0  \n",
       "3                  3                   1  \n",
       "4                  1                   1  \n",
       "\n",
       "[5 rows x 53 columns]"
      ]
     },
     "execution_count": 25,
     "metadata": {},
     "output_type": "execute_result"
    }
   ],
   "source": [
    "# Turn the recently created column into 1s and 0s\n",
    "binary_df['User_Illegal_Drugs'] = le.fit_transform(binary_df['User_Illegal_Drugs'])\n",
    "binary_df.head()"
   ]
  },
  {
   "cell_type": "code",
   "execution_count": 26,
   "metadata": {},
   "outputs": [
    {
     "data": {
      "text/plain": [
       "['Age',\n",
       " 'Gender',\n",
       " 'Education',\n",
       " 'Country',\n",
       " 'Ethnicity',\n",
       " 'Nscore',\n",
       " 'Escore',\n",
       " 'Oscore',\n",
       " 'Ascore',\n",
       " 'Cscore',\n",
       " 'Impulsive',\n",
       " 'SS',\n",
       " 'Alcohol',\n",
       " 'Amphetamines',\n",
       " 'Amyl_Nitrite',\n",
       " 'Benzos',\n",
       " 'Caffeine',\n",
       " 'Cannabis',\n",
       " 'Chocolate',\n",
       " 'Cocaine',\n",
       " 'Crack',\n",
       " 'Ecstasy',\n",
       " 'Heroin',\n",
       " 'Ketamine',\n",
       " 'Legal_Highs',\n",
       " 'LSD',\n",
       " 'Methadone',\n",
       " 'Mushrooms',\n",
       " 'Nicotine',\n",
       " 'Semeron',\n",
       " 'VSA',\n",
       " 'User_Alcohol',\n",
       " 'User_Amphet',\n",
       " 'User_Amyl',\n",
       " 'User_Benzos',\n",
       " 'User_Caff',\n",
       " 'User_Cannabis',\n",
       " 'User_Choc',\n",
       " 'User_Coke',\n",
       " 'User_Crack',\n",
       " 'User_Ecstasy',\n",
       " 'User_Heroin',\n",
       " 'User_Ketamine',\n",
       " 'User_Legalh',\n",
       " 'User_LSD',\n",
       " 'User_Meth',\n",
       " 'User_Mushrooms',\n",
       " 'User_Nicotine',\n",
       " 'User_Semer',\n",
       " 'User_VSA',\n",
       " 'Legal_Total_Use',\n",
       " 'Illegal_Total_Use',\n",
       " 'User_Illegal_Drugs']"
      ]
     },
     "execution_count": 26,
     "metadata": {},
     "output_type": "execute_result"
    }
   ],
   "source": [
    "list(binary_df.columns)"
   ]
  },
  {
   "cell_type": "code",
   "execution_count": 455,
   "metadata": {},
   "outputs": [],
   "source": [
    "# Creating final binary dataframe for classification models by dropping columns we won't use \n",
    "columns_to_drop = ['Alcohol',\n",
    " 'Amphetamines',\n",
    " 'Amyl_Nitrite',\n",
    " 'Benzos',\n",
    " 'Caffeine',\n",
    " 'Cannabis',\n",
    " 'Chocolate',\n",
    " 'Cocaine',\n",
    " 'Crack',\n",
    " 'Ecstasy',\n",
    " 'Heroin',\n",
    " 'Ketamine',\n",
    " 'Legal_Highs',\n",
    " 'LSD',\n",
    " 'Methadone',\n",
    " 'Mushrooms',\n",
    " 'Nicotine',\n",
    " 'Semeron',\n",
    " 'VSA',\n",
    " 'User_Alcohol',\n",
    " 'User_Amphet',\n",
    " 'User_Amyl',\n",
    " 'User_Benzos',\n",
    " 'User_Caff',\n",
    " 'User_Choc',\n",
    " 'User_Coke',\n",
    " 'User_Crack',\n",
    " 'User_Ecstasy',\n",
    " 'User_Heroin',\n",
    " 'User_Ketamine',\n",
    " 'User_Legalh',\n",
    " 'User_LSD',\n",
    " 'User_Meth',\n",
    " 'User_Mushrooms',\n",
    " 'User_Semer',\n",
    " 'User_VSA',\n",
    " 'Legal_Total_Use',\n",
    " 'Illegal_Total_Use',]\n",
    "finalized_df = binary_df.drop(columns=columns_to_drop)"
   ]
  },
  {
   "cell_type": "code",
   "execution_count": 456,
   "metadata": {
    "scrolled": true
   },
   "outputs": [
    {
     "data": {
      "text/html": [
       "<div>\n",
       "<style scoped>\n",
       "    .dataframe tbody tr th:only-of-type {\n",
       "        vertical-align: middle;\n",
       "    }\n",
       "\n",
       "    .dataframe tbody tr th {\n",
       "        vertical-align: top;\n",
       "    }\n",
       "\n",
       "    .dataframe thead th {\n",
       "        text-align: right;\n",
       "    }\n",
       "</style>\n",
       "<table border=\"1\" class=\"dataframe\">\n",
       "  <thead>\n",
       "    <tr style=\"text-align: right;\">\n",
       "      <th></th>\n",
       "      <th>Age</th>\n",
       "      <th>Gender</th>\n",
       "      <th>Education</th>\n",
       "      <th>Country</th>\n",
       "      <th>Ethnicity</th>\n",
       "      <th>Nscore</th>\n",
       "      <th>Escore</th>\n",
       "      <th>Oscore</th>\n",
       "      <th>Ascore</th>\n",
       "      <th>Cscore</th>\n",
       "      <th>Impulsive</th>\n",
       "      <th>SS</th>\n",
       "      <th>User_Cannabis</th>\n",
       "      <th>User_Nicotine</th>\n",
       "      <th>User_Illegal_Drugs</th>\n",
       "    </tr>\n",
       "  </thead>\n",
       "  <tbody>\n",
       "    <tr>\n",
       "      <th>0</th>\n",
       "      <td>0.49788</td>\n",
       "      <td>0.48246</td>\n",
       "      <td>-0.05921</td>\n",
       "      <td>0.96082</td>\n",
       "      <td>0.12600</td>\n",
       "      <td>0.31287</td>\n",
       "      <td>-0.57545</td>\n",
       "      <td>-0.58331</td>\n",
       "      <td>-0.91699</td>\n",
       "      <td>-0.00665</td>\n",
       "      <td>-0.21712</td>\n",
       "      <td>-1.18084</td>\n",
       "      <td>0</td>\n",
       "      <td>1</td>\n",
       "      <td>1</td>\n",
       "    </tr>\n",
       "    <tr>\n",
       "      <th>1</th>\n",
       "      <td>-0.07854</td>\n",
       "      <td>-0.48246</td>\n",
       "      <td>1.98437</td>\n",
       "      <td>0.96082</td>\n",
       "      <td>-0.31685</td>\n",
       "      <td>-0.67825</td>\n",
       "      <td>1.93886</td>\n",
       "      <td>1.43533</td>\n",
       "      <td>0.76096</td>\n",
       "      <td>-0.14277</td>\n",
       "      <td>-0.71126</td>\n",
       "      <td>-0.21575</td>\n",
       "      <td>1</td>\n",
       "      <td>1</td>\n",
       "      <td>1</td>\n",
       "    </tr>\n",
       "    <tr>\n",
       "      <th>2</th>\n",
       "      <td>0.49788</td>\n",
       "      <td>-0.48246</td>\n",
       "      <td>-0.05921</td>\n",
       "      <td>0.96082</td>\n",
       "      <td>-0.31685</td>\n",
       "      <td>-0.46725</td>\n",
       "      <td>0.80523</td>\n",
       "      <td>-0.84732</td>\n",
       "      <td>-1.62090</td>\n",
       "      <td>-1.01450</td>\n",
       "      <td>-1.37983</td>\n",
       "      <td>0.40148</td>\n",
       "      <td>1</td>\n",
       "      <td>0</td>\n",
       "      <td>0</td>\n",
       "    </tr>\n",
       "    <tr>\n",
       "      <th>3</th>\n",
       "      <td>-0.95197</td>\n",
       "      <td>0.48246</td>\n",
       "      <td>1.16365</td>\n",
       "      <td>0.96082</td>\n",
       "      <td>-0.31685</td>\n",
       "      <td>-0.14882</td>\n",
       "      <td>-0.80615</td>\n",
       "      <td>-0.01928</td>\n",
       "      <td>0.59042</td>\n",
       "      <td>0.58489</td>\n",
       "      <td>-1.37983</td>\n",
       "      <td>-1.18084</td>\n",
       "      <td>1</td>\n",
       "      <td>1</td>\n",
       "      <td>1</td>\n",
       "    </tr>\n",
       "    <tr>\n",
       "      <th>4</th>\n",
       "      <td>0.49788</td>\n",
       "      <td>0.48246</td>\n",
       "      <td>1.98437</td>\n",
       "      <td>0.96082</td>\n",
       "      <td>-0.31685</td>\n",
       "      <td>0.73545</td>\n",
       "      <td>-1.63340</td>\n",
       "      <td>-0.45174</td>\n",
       "      <td>-0.30172</td>\n",
       "      <td>1.30612</td>\n",
       "      <td>-0.21712</td>\n",
       "      <td>-0.21575</td>\n",
       "      <td>1</td>\n",
       "      <td>1</td>\n",
       "      <td>1</td>\n",
       "    </tr>\n",
       "  </tbody>\n",
       "</table>\n",
       "</div>"
      ],
      "text/plain": [
       "       Age   Gender  Education  Country  Ethnicity   Nscore   Escore   Oscore  \\\n",
       "0  0.49788  0.48246   -0.05921  0.96082    0.12600  0.31287 -0.57545 -0.58331   \n",
       "1 -0.07854 -0.48246    1.98437  0.96082   -0.31685 -0.67825  1.93886  1.43533   \n",
       "2  0.49788 -0.48246   -0.05921  0.96082   -0.31685 -0.46725  0.80523 -0.84732   \n",
       "3 -0.95197  0.48246    1.16365  0.96082   -0.31685 -0.14882 -0.80615 -0.01928   \n",
       "4  0.49788  0.48246    1.98437  0.96082   -0.31685  0.73545 -1.63340 -0.45174   \n",
       "\n",
       "    Ascore   Cscore  Impulsive       SS  User_Cannabis  User_Nicotine  \\\n",
       "0 -0.91699 -0.00665   -0.21712 -1.18084              0              1   \n",
       "1  0.76096 -0.14277   -0.71126 -0.21575              1              1   \n",
       "2 -1.62090 -1.01450   -1.37983  0.40148              1              0   \n",
       "3  0.59042  0.58489   -1.37983 -1.18084              1              1   \n",
       "4 -0.30172  1.30612   -0.21712 -0.21575              1              1   \n",
       "\n",
       "   User_Illegal_Drugs  \n",
       "0                   1  \n",
       "1                   1  \n",
       "2                   0  \n",
       "3                   1  \n",
       "4                   1  "
      ]
     },
     "execution_count": 456,
     "metadata": {},
     "output_type": "execute_result"
    }
   ],
   "source": [
    "# Final df containing only features and targets that will be used.\n",
    "finalized_df.head()"
   ]
  },
  {
   "cell_type": "code",
   "execution_count": 29,
   "metadata": {},
   "outputs": [
    {
     "data": {
      "text/plain": [
       "['Age',\n",
       " 'Gender',\n",
       " 'Education',\n",
       " 'Country',\n",
       " 'Ethnicity',\n",
       " 'Nscore',\n",
       " 'Escore',\n",
       " 'Oscore',\n",
       " 'Ascore',\n",
       " 'Cscore',\n",
       " 'Impulsive',\n",
       " 'SS']"
      ]
     },
     "execution_count": 29,
     "metadata": {},
     "output_type": "execute_result"
    }
   ],
   "source": [
    "list(multilevel_df.columns[:12].values)"
   ]
  },
  {
   "cell_type": "markdown",
   "metadata": {},
   "source": [
    "# A Simple Test Models: A Baseline for Modeling"
   ]
  },
  {
   "cell_type": "markdown",
   "metadata": {},
   "source": [
    "Below, I'll perform a simple classification analysis using 9 different classifiers. This is without any sort of additional scaling, hyper-parameter tuning, or model stacking. The purpose is simply to compare the different classifiers on a sample of my dataset to determine which classifiers will yield the best accuracy scores after tuning."
   ]
  },
  {
   "cell_type": "code",
   "execution_count": 61,
   "metadata": {
    "scrolled": true
   },
   "outputs": [],
   "source": [
    "#Without any sort of hyperparameter tuning- first attempt only\n",
    "binary_svm = SVC(kernel=\"rbf\", C=2, random_state = 11)\n",
    "binary_forest = RandomForestClassifier(random_state = 11)\n",
    "binary_nb = GaussianNB()\n",
    "binary_knn = KNeighborsClassifier()\n",
    "binary_gradient = GradientBoostingClassifier(random_state = 11)\n",
    "binary_adaboost = AdaBoostClassifier(random_state = 11)\n",
    "binary_bag = BaggingClassifier(random_state = 11)\n",
    "binary_tree = DecisionTreeClassifier(random_state = 11)\n",
    "binary_XGB = xgb.XGBClassifier(seed = 11)\n"
   ]
  },
  {
   "cell_type": "code",
   "execution_count": 65,
   "metadata": {},
   "outputs": [],
   "source": [
    "list_of_models = [binary_svm, binary_forest, binary_nb, binary_knn, binary_gradient, binary_adaboost, binary_bag, binary_tree, binary_XGB]\n",
    "list_of_model_names = ['SVM', 'Random Forest', 'Naive Bayes', 'KNN', 'Gradient Boost', 'ADA Boost', 'Bagging', 'Decision Tree', 'XGB']"
   ]
  },
  {
   "cell_type": "code",
   "execution_count": 92,
   "metadata": {},
   "outputs": [
    {
     "name": "stdout",
     "output_type": "stream",
     "text": [
      "User_Nicotine\n",
      "\n",
      "       Model Name  Training Accuracy  Testing Accuracy\n",
      "4  Gradient Boost           0.820292          0.726790\n",
      "8             XGB           0.796419          0.724138\n",
      "5       ADA Boost           0.751326          0.713528\n",
      "0             SVM           0.791114          0.705570\n",
      "1   Random Forest           0.986737          0.705570\n",
      "2     Naive Bayes           0.712202          0.687003\n",
      "6         Bagging           0.990716          0.681698\n",
      "3             KNN           0.783820          0.655172\n",
      "7   Decision Tree           1.000000          0.641910\n",
      "\n",
      "User_Cannabis\n",
      "\n",
      "       Model Name  Training Accuracy  Testing Accuracy\n",
      "8             XGB           0.876658          0.803714\n",
      "4  Gradient Boost           0.889257          0.787798\n",
      "0             SVM           0.858090          0.779841\n",
      "1   Random Forest           0.993369          0.779841\n",
      "5       ADA Boost           0.836870          0.771883\n",
      "6         Bagging           0.991379          0.761273\n",
      "3             KNN           0.857427          0.755968\n",
      "2     Naive Bayes           0.807692          0.753316\n",
      "7   Decision Tree           1.000000          0.708223\n",
      "\n",
      "User_Illegal_Drugs\n",
      "\n",
      "       Model Name  Training Accuracy  Testing Accuracy\n",
      "4  Gradient Boost           0.868700          0.793103\n",
      "5       ADA Boost           0.816976          0.785146\n",
      "8             XGB           0.857427          0.785146\n",
      "6         Bagging           0.988064          0.782493\n",
      "0             SVM           0.838859          0.779841\n",
      "2     Naive Bayes           0.794430          0.774536\n",
      "3             KNN           0.826923          0.748011\n",
      "1   Random Forest           0.991379          0.745358\n",
      "7   Decision Tree           1.000000          0.687003\n",
      "\n"
     ]
    }
   ],
   "source": [
    "# Creating a loop that creates one of these dataframes for each of our targets (nicotine user, cannabis user, illegal drug user)\n",
    "target_names = ['User_Nicotine', 'User_Cannabis', 'User_Illegal_Drugs']\n",
    "\n",
    "#Setting features\n",
    "feature_names = list(finalized_df.columns[:12].values)\n",
    "X = finalized_df[feature_names]\n",
    "\n",
    "df_list = []\n",
    "\n",
    "for target in target_names:\n",
    "    print(str(target) + \"\\n\")\n",
    "    y = finalized_df[target]\n",
    "    X_train1, X_test1, y_train1, y_test1 = train_test_split(X, y, test_size=0.20, random_state= 10)  \n",
    "    model_results = model_results_dataframe(list_of_models, list_of_model_names, X_train1, y_train1, X_test1, y_test1)\n",
    "    print(model_results.sort_values(by=['Testing Accuracy'], ascending=False))\n",
    "    print(\"\")\n"
   ]
  },
  {
   "cell_type": "markdown",
   "metadata": {},
   "source": [
    "# Scaling and K-fold Cross Validation for Binary models"
   ]
  },
  {
   "cell_type": "markdown",
   "metadata": {},
   "source": [
    "At first glance, it appears that Gradient Boost, XGB, ADA Boost, SVM, and Random Forest are the best classifiers. Before scaling and tuning these models, there's a few modifications I'll make to hopefully improve accuracy and determine which classifiers are best suited to the data.\n",
    "1. I'll scale each of the features using the standard scalar\n",
    "2. I'll use K-fold cross validation to visualize the accuracy of each classifier for each of my targets. "
   ]
  },
  {
   "cell_type": "code",
   "execution_count": null,
   "metadata": {},
   "outputs": [],
   "source": [
    "#Scaling all X data here\n",
    "scale = StandardScaler()\n",
    "scaled_X = X.copy()\n",
    "scaled_X = pd.DataFrame(scale.fit_transform(scaled_X), columns=X.columns)"
   ]
  },
  {
   "cell_type": "code",
   "execution_count": 128,
   "metadata": {},
   "outputs": [],
   "source": [
    "#Applying Kfold cross validation to validate each model. Note I use 10 fold cross validation \n",
    "kfold = KFold(n_splits=10, shuffle=True, random_state=11)\n"
   ]
  },
  {
   "cell_type": "code",
   "execution_count": 140,
   "metadata": {
    "scrolled": false
   },
   "outputs": [
    {
     "name": "stdout",
     "output_type": "stream",
     "text": [
      "User_Nicotine\n",
      "\n",
      "       Model Name  Mean 10-Fold CV Accuracy\n",
      "5       ADA Boost                  0.726790\n",
      "0             SVM                  0.724133\n",
      "8             XGB                  0.719371\n",
      "4  Gradient Boost                  0.714080\n",
      "2     Naive Bayes                  0.707185\n",
      "1   Random Forest                  0.705558\n",
      "6         Bagging                  0.702933\n",
      "3             KNN                  0.676939\n",
      "7   Decision Tree                  0.642443\n",
      "\n",
      "User_Cannabis\n",
      "\n",
      "       Model Name  Mean 10-Fold CV Accuracy\n",
      "5       ADA Boost                  0.809059\n",
      "8             XGB                  0.808528\n",
      "4  Gradient Boost                  0.807996\n",
      "0             SVM                  0.806360\n",
      "2     Naive Bayes                  0.795235\n",
      "3             KNN                  0.794188\n",
      "6         Bagging                  0.783581\n",
      "1   Random Forest                  0.781496\n",
      "7   Decision Tree                  0.740048\n",
      "\n",
      "User_Illegal_Drugs\n",
      "\n",
      "       Model Name  Mean 10-Fold CV Accuracy\n",
      "8             XGB                  0.794222\n",
      "0             SVM                  0.792618\n",
      "4  Gradient Boost                  0.792103\n",
      "5       ADA Boost                  0.786238\n",
      "2     Naive Bayes                  0.784135\n",
      "1   Random Forest                  0.783055\n",
      "3             KNN                  0.772971\n",
      "6         Bagging                  0.768184\n",
      "7   Decision Tree                  0.716734\n",
      "\n"
     ]
    },
    {
     "data": {
      "image/png": "[encoded data removed]",
      "text/plain": [
       "<Figure size 720x2160 with 3 Axes>"
      ]
     },
     "metadata": {
      "needs_background": "light"
     },
     "output_type": "display_data"
    }
   ],
   "source": [
    "#For loop to visualize classifiers for each target\n",
    "fig = plt.figure(figsize=(10,30))\n",
    "\n",
    "for i, target in enumerate(target_names):\n",
    "    y = finalized_df[target]\n",
    "    means = []\n",
    "    \n",
    "    mean_accuracies = []\n",
    "    model_names_list = []\n",
    "    \n",
    "    #Calculating cross validation scores for each model in a loop\n",
    "    for j, model in enumerate(list_of_models):\n",
    "        accuracy = cross_val_score(model, scaled_X, y, cv=kfold, scoring=\"accuracy\", n_jobs=-1)\n",
    "        means.append(accuracy)\n",
    "        \n",
    "        mean_accuracies.append(np.mean(accuracy))\n",
    "        model_names_list.append(list_of_model_names[j])\n",
    "        \n",
    "        \n",
    "        #print(list_of_model_names[j], np.mean(accuracy))\n",
    "        \n",
    "\n",
    "    ax = fig.add_subplot(3,1,i+1)\n",
    "\n",
    "    #Putting those scores into a visualization\n",
    "    for i in range(len(means)):\n",
    "        sns.distplot(means[i], hist=False, kde_kws={'shade': True})\n",
    "\n",
    "    ax.set_title(f'Distribution of Classifier Accuracies for {target}')\n",
    "    ax.legend(list_of_model_names)\n",
    "    ax.set_xlabel('Accuracy', labelpad=20)\n",
    "    \n",
    "    \n",
    "    d = {'Model Name': model_names_list, 'Mean 10-Fold CV Accuracy': mean_accuracies}\n",
    "    mean_cv_accuracy_df = pd.DataFrame(data=d)\n",
    "    \n",
    "    print(str(target))\n",
    "    print(\"\")\n",
    "    print(mean_cv_accuracy_df.sort_values(by=['Mean 10-Fold CV Accuracy'], ascending=False))\n",
    "    print(\"\")\n",
    "\n",
    "plt.show()"
   ]
  },
  {
   "cell_type": "markdown",
   "metadata": {},
   "source": [
    "Based on the above accuracy visualizations and accuracy scores for each classifier, it seems like the best classifiers are the ones listed below...\n",
    "\n",
    "- SVM \n",
    "- Random Forest \n",
    "- Gradient Boost\n",
    "- XGB \n",
    "- ADA\n",
    "\n",
    "These are the models that I will perform hyperparameter tuning and model stacking for. "
   ]
  },
  {
   "cell_type": "markdown",
   "metadata": {},
   "source": [
    "# Hyper-Parameter Tuning\n",
    "\n"
   ]
  },
  {
   "cell_type": "code",
   "execution_count": 168,
   "metadata": {},
   "outputs": [
    {
     "data": {
      "text/plain": [
       "[SVC(C=2, cache_size=200, class_weight=None, coef0=0.0,\n",
       "   decision_function_shape='ovr', degree=3, gamma='auto_deprecated',\n",
       "   kernel='rbf', max_iter=-1, probability=False, random_state=11,\n",
       "   shrinking=True, tol=0.001, verbose=False),\n",
       " RandomForestClassifier(bootstrap=True, class_weight=None, criterion='gini',\n",
       "             max_depth=None, max_features='auto', max_leaf_nodes=None,\n",
       "             min_impurity_decrease=0.0, min_impurity_split=None,\n",
       "             min_samples_leaf=1, min_samples_split=2,\n",
       "             min_weight_fraction_leaf=0.0, n_estimators=10, n_jobs=None,\n",
       "             oob_score=False, random_state=11, verbose=0, warm_start=False),\n",
       " GaussianNB(priors=None, var_smoothing=1e-09),\n",
       " KNeighborsClassifier(algorithm='auto', leaf_size=30, metric='minkowski',\n",
       "            metric_params=None, n_jobs=None, n_neighbors=5, p=2,\n",
       "            weights='uniform'),\n",
       " GradientBoostingClassifier(criterion='friedman_mse', init=None,\n",
       "               learning_rate=0.1, loss='deviance', max_depth=3,\n",
       "               max_features=None, max_leaf_nodes=None,\n",
       "               min_impurity_decrease=0.0, min_impurity_split=None,\n",
       "               min_samples_leaf=1, min_samples_split=2,\n",
       "               min_weight_fraction_leaf=0.0, n_estimators=100,\n",
       "               n_iter_no_change=None, presort='auto', random_state=11,\n",
       "               subsample=1.0, tol=0.0001, validation_fraction=0.1,\n",
       "               verbose=0, warm_start=False),\n",
       " AdaBoostClassifier(algorithm='SAMME.R', base_estimator=None,\n",
       "           learning_rate=1.0, n_estimators=50, random_state=11),\n",
       " BaggingClassifier(base_estimator=None, bootstrap=True,\n",
       "          bootstrap_features=False, max_features=1.0, max_samples=1.0,\n",
       "          n_estimators=10, n_jobs=None, oob_score=False, random_state=11,\n",
       "          verbose=0, warm_start=False),\n",
       " DecisionTreeClassifier(class_weight=None, criterion='gini', max_depth=None,\n",
       "             max_features=None, max_leaf_nodes=None,\n",
       "             min_impurity_decrease=0.0, min_impurity_split=None,\n",
       "             min_samples_leaf=1, min_samples_split=2,\n",
       "             min_weight_fraction_leaf=0.0, presort=False, random_state=11,\n",
       "             splitter='best'),\n",
       " XGBClassifier(base_score=0.5, booster='gbtree', colsample_bylevel=1,\n",
       "        colsample_bytree=1, gamma=0, learning_rate=0.1, max_delta_step=0,\n",
       "        max_depth=3, min_child_weight=1, missing=None, n_estimators=100,\n",
       "        n_jobs=1, nthread=None, objective='binary:logistic', random_state=0,\n",
       "        reg_alpha=0, reg_lambda=1, scale_pos_weight=1, seed=11, silent=True,\n",
       "        subsample=1)]"
      ]
     },
     "execution_count": 168,
     "metadata": {},
     "output_type": "execute_result"
    }
   ],
   "source": [
    "list_of_models"
   ]
  },
  {
   "cell_type": "code",
   "execution_count": 231,
   "metadata": {},
   "outputs": [],
   "source": [
    "#Putting just the best performing models from cross validation into a list\n",
    "selected_model_names = ['SVC', 'Random Forest', 'Gradient Boosting', 'ADA Boost', 'XGB']\n",
    "selected_models = [list_of_models[0], list_of_models[1], list_of_models[4], list_of_models[5], list_of_models[8]]"
   ]
  },
  {
   "cell_type": "code",
   "execution_count": 232,
   "metadata": {
    "scrolled": true
   },
   "outputs": [
    {
     "data": {
      "text/plain": [
       "[SVC(C=2, cache_size=200, class_weight=None, coef0=0.0,\n",
       "   decision_function_shape='ovr', degree=3, gamma='auto_deprecated',\n",
       "   kernel='rbf', max_iter=-1, probability=False, random_state=11,\n",
       "   shrinking=True, tol=0.001, verbose=False),\n",
       " RandomForestClassifier(bootstrap=True, class_weight=None, criterion='gini',\n",
       "             max_depth=None, max_features='auto', max_leaf_nodes=None,\n",
       "             min_impurity_decrease=0.0, min_impurity_split=None,\n",
       "             min_samples_leaf=1, min_samples_split=2,\n",
       "             min_weight_fraction_leaf=0.0, n_estimators=10, n_jobs=None,\n",
       "             oob_score=False, random_state=11, verbose=0, warm_start=False),\n",
       " GradientBoostingClassifier(criterion='friedman_mse', init=None,\n",
       "               learning_rate=0.1, loss='deviance', max_depth=3,\n",
       "               max_features=None, max_leaf_nodes=None,\n",
       "               min_impurity_decrease=0.0, min_impurity_split=None,\n",
       "               min_samples_leaf=1, min_samples_split=2,\n",
       "               min_weight_fraction_leaf=0.0, n_estimators=100,\n",
       "               n_iter_no_change=None, presort='auto', random_state=11,\n",
       "               subsample=1.0, tol=0.0001, validation_fraction=0.1,\n",
       "               verbose=0, warm_start=False),\n",
       " AdaBoostClassifier(algorithm='SAMME.R', base_estimator=None,\n",
       "           learning_rate=1.0, n_estimators=50, random_state=11),\n",
       " XGBClassifier(base_score=0.5, booster='gbtree', colsample_bylevel=1,\n",
       "        colsample_bytree=1, gamma=0, learning_rate=0.1, max_delta_step=0,\n",
       "        max_depth=3, min_child_weight=1, missing=None, n_estimators=100,\n",
       "        n_jobs=1, nthread=None, objective='binary:logistic', random_state=0,\n",
       "        reg_alpha=0, reg_lambda=1, scale_pos_weight=1, seed=11, silent=True,\n",
       "        subsample=1)]"
      ]
     },
     "execution_count": 232,
     "metadata": {},
     "output_type": "execute_result"
    }
   ],
   "source": [
    "selected_models"
   ]
  },
  {
   "cell_type": "markdown",
   "metadata": {},
   "source": [
    "# Tuning Models For Each Classifier\n"
   ]
  },
  {
   "cell_type": "markdown",
   "metadata": {},
   "source": [
    "In the above models we can see that there are different optimal models for each of the three label targets: nicotine-users, cannabis-users, and illegal-drug users.\n",
    "\n",
    "As such, I've decided that I will tune models for each of the targets separately. \n",
    "\n",
    "After I have tuned each of the models- I will take the best two models for each target and put it into a pipeline with PCA."
   ]
  },
  {
   "cell_type": "markdown",
   "metadata": {},
   "source": [
    "# Establishing hyperparameter grids for all three targets"
   ]
  },
  {
   "cell_type": "code",
   "execution_count": 234,
   "metadata": {},
   "outputs": [],
   "source": [
    "#SVM Tuning\n",
    "svm_param_grid ={\n",
    "    'C': [0.5, 1, 2, 5, 10],\n",
    "    'gamma': [0.01, 0.1, 0.4, 0.8],\n",
    "    'kernel': ['rbf', 'linear']\n",
    "}\n",
    "\n",
    "\n",
    "#Random Forest Tuning\n",
    "rf_param_grid = {\n",
    "    'n_estimators': [5, 11, 20],\n",
    "    'criterion': ['gini', 'entropy'],\n",
    "    'max_depth': [2, 4, 6, 10],\n",
    "    'min_samples_split': [10, 15, 20],\n",
    "    'min_samples_leaf': [1, 2, 5]\n",
    "}\n",
    "\n",
    "gb_param_grid = {\n",
    "    'learning_rate': [0.05, 0.1, 0.3],\n",
    "    'n_estimators': [5, 9, 11],\n",
    "    'max_depth': [2, 4, 6]\n",
    "    \n",
    "}\n",
    "\n",
    "ada_param_grid = {\n",
    "    'learning_rate': [0.1, 0.5, 1.0],\n",
    "    'n_estimators': [5, 11, 25]\n",
    "}\n",
    "\n",
    "xgb_param_grid = {\n",
    "    'learning_rate': [0.05, 0.1, 0.3, 0.9],\n",
    "    'gamma': [0.1, 1, 5, 10],\n",
    "    'max_depth': [2, 3, 6]\n",
    "    \n",
    "}"
   ]
  },
  {
   "cell_type": "markdown",
   "metadata": {},
   "source": [
    "# <font color='green'> **Nicotine User Model Tuning**"
   ]
  },
  {
   "cell_type": "code",
   "execution_count": 323,
   "metadata": {
    "scrolled": true
   },
   "outputs": [
    {
     "data": {
      "text/plain": [
       "GridSearchCV(cv=KFold(n_splits=10, random_state=11, shuffle=True),\n",
       "       error_score='raise-deprecating',\n",
       "       estimator=XGBClassifier(base_score=0.5, booster='gbtree', colsample_bylevel=1,\n",
       "       colsample_bytree=1, gamma=0, learning_rate=0.1, max_delta_step=0,\n",
       "       max_depth=3, min_child_weight=1, missing=None, n_estimators=100,\n",
       "       n_jobs=1, nthread=None, objective='binary:logistic', random_state=0,\n",
       "       reg_alpha=0, reg_lambda=1, scale_pos_weight=1, seed=11, silent=True,\n",
       "       subsample=1),\n",
       "       fit_params=None, iid='warn', n_jobs=None,\n",
       "       param_grid={'learning_rate': [0.05, 0.1, 0.3, 0.9], 'gamma': [0.1, 1, 5, 10], 'max_depth': [2, 3, 6]},\n",
       "       pre_dispatch='2*n_jobs', refit=True, return_train_score='warn',\n",
       "       scoring=None, verbose=0)"
      ]
     },
     "execution_count": 323,
     "metadata": {},
     "output_type": "execute_result"
    }
   ],
   "source": [
    "#Setting y equal to user_nicotine\n",
    "y = finalized_df['User_Nicotine']\n",
    "\n",
    "#Grid search to find best parameters for \n",
    "svm_grid_search = GridSearchCV(binary_svm, svm_param_grid, cv=kfold)\n",
    "svm_grid_search.fit(scaled_X, y)\n",
    "\n",
    "#Gridsearch to find best parameters for random forest model\n",
    "rf_grid_search = GridSearchCV(binary_forest, rf_param_grid, cv=kfold)\n",
    "rf_grid_search.fit(scaled_X, y)\n",
    "\n",
    "gb_grid_search = GridSearchCV(binary_gradient, gb_param_grid, cv=kfold)\n",
    "gb_grid_search.fit(scaled_X, y)\n",
    "\n",
    "ada_grid_search = GridSearchCV(binary_adaboost, ada_param_grid, cv=kfold)\n",
    "ada_grid_search.fit(scaled_X, y)\n",
    "\n",
    "xgb_grid_search = GridSearchCV(binary_XGB, xgb_param_grid, cv=kfold)\n",
    "xgb_grid_search.fit(scaled_X, y)"
   ]
  },
  {
   "cell_type": "code",
   "execution_count": 325,
   "metadata": {},
   "outputs": [],
   "source": [
    "#Putting all of the grid searched models into a list so I can iterate through them and put the results into a dataframe\n",
    "list_of_fitted_grid_searches = [svm_grid_search, rf_grid_search, gb_grid_search, ada_grid_search, xgb_grid_search]"
   ]
  },
  {
   "cell_type": "code",
   "execution_count": 326,
   "metadata": {},
   "outputs": [],
   "source": [
    "# Compiling a list of all the new model accuracies and their optimal parameters into a dataframe\n",
    "grid_search_results_list = []\n",
    "\n",
    "for i, gs in enumerate(list_of_fitted_grid_searches):\n",
    "    \n",
    "    testing_accuracy = str(\"{:.4}%\".format(gs.best_score_ * 100))\n",
    "    optimal_parameters = gs.best_params_\n",
    "\n",
    "    grid_search_results_list.append([selected_model_names[i], testing_accuracy, optimal_parameters])"
   ]
  },
  {
   "cell_type": "code",
   "execution_count": 327,
   "metadata": {},
   "outputs": [
    {
     "data": {
      "text/html": [
       "<div>\n",
       "<style scoped>\n",
       "    .dataframe tbody tr th:only-of-type {\n",
       "        vertical-align: middle;\n",
       "    }\n",
       "\n",
       "    .dataframe tbody tr th {\n",
       "        vertical-align: top;\n",
       "    }\n",
       "\n",
       "    .dataframe thead th {\n",
       "        text-align: right;\n",
       "    }\n",
       "</style>\n",
       "<table border=\"1\" class=\"dataframe\">\n",
       "  <thead>\n",
       "    <tr style=\"text-align: right;\">\n",
       "      <th></th>\n",
       "      <th>Model</th>\n",
       "      <th>Testing Accuracy</th>\n",
       "      <th>Optimal Parameters</th>\n",
       "    </tr>\n",
       "  </thead>\n",
       "  <tbody>\n",
       "    <tr>\n",
       "      <th>0</th>\n",
       "      <td>SVC</td>\n",
       "      <td>73.21%</td>\n",
       "      <td>{'C': 0.5, 'gamma': 0.1, 'kernel': 'rbf'}</td>\n",
       "    </tr>\n",
       "    <tr>\n",
       "      <th>1</th>\n",
       "      <td>Random Forest</td>\n",
       "      <td>73.42%</td>\n",
       "      <td>{'criterion': 'entropy', 'max_depth': 10, 'min...</td>\n",
       "    </tr>\n",
       "    <tr>\n",
       "      <th>2</th>\n",
       "      <td>Gradient Boosting</td>\n",
       "      <td>72.47%</td>\n",
       "      <td>{'learning_rate': 0.3, 'max_depth': 2, 'n_esti...</td>\n",
       "    </tr>\n",
       "    <tr>\n",
       "      <th>3</th>\n",
       "      <td>ADA Boost</td>\n",
       "      <td>72.47%</td>\n",
       "      <td>{'learning_rate': 1.0, 'n_estimators': 25}</td>\n",
       "    </tr>\n",
       "    <tr>\n",
       "      <th>4</th>\n",
       "      <td>XGB</td>\n",
       "      <td>73.26%</td>\n",
       "      <td>{'gamma': 5, 'learning_rate': 0.1, 'max_depth'...</td>\n",
       "    </tr>\n",
       "  </tbody>\n",
       "</table>\n",
       "</div>"
      ],
      "text/plain": [
       "               Model Testing Accuracy  \\\n",
       "0                SVC           73.21%   \n",
       "1      Random Forest           73.42%   \n",
       "2  Gradient Boosting           72.47%   \n",
       "3          ADA Boost           72.47%   \n",
       "4                XGB           73.26%   \n",
       "\n",
       "                                  Optimal Parameters  \n",
       "0          {'C': 0.5, 'gamma': 0.1, 'kernel': 'rbf'}  \n",
       "1  {'criterion': 'entropy', 'max_depth': 10, 'min...  \n",
       "2  {'learning_rate': 0.3, 'max_depth': 2, 'n_esti...  \n",
       "3         {'learning_rate': 1.0, 'n_estimators': 25}  \n",
       "4  {'gamma': 5, 'learning_rate': 0.1, 'max_depth'...  "
      ]
     },
     "execution_count": 327,
     "metadata": {},
     "output_type": "execute_result"
    }
   ],
   "source": [
    "grid_search_results_df = pd.DataFrame(data=grid_search_results_list, columns=['Model', 'Testing Accuracy', 'Optimal Parameters'])\n",
    "grid_search_results_df"
   ]
  },
  {
   "cell_type": "code",
   "execution_count": 250,
   "metadata": {
    "scrolled": true
   },
   "outputs": [
    {
     "name": "stdout",
     "output_type": "stream",
     "text": [
      "Optimal Parameters for SVC: \n",
      "{'C': 0.5, 'gamma': 0.1, 'kernel': 'rbf'}\n",
      "Optimal Parameters for Random Forest: \n",
      "{'criterion': 'entropy', 'max_depth': 10, 'min_samples_leaf': 5, 'min_samples_split': 10, 'n_estimators': 20}\n",
      "Optimal Parameters for Gradient Boosting: \n",
      "{'learning_rate': 0.3, 'max_depth': 2, 'n_estimators': 11}\n",
      "Optimal Parameters for ADA Boost: \n",
      "{'learning_rate': 1.0, 'n_estimators': 25}\n",
      "Optimal Parameters for XGB: \n",
      "{'gamma': 5, 'learning_rate': 0.1, 'max_depth': 6}\n"
     ]
    }
   ],
   "source": [
    "#Printing out optimal parameters for each model\n",
    "for i in range(0, len(grid_search_results_df['Model'])):\n",
    "    print(\"Optimal Parameters for {}: \".format(grid_search_results_df['Model'][i]))\n",
    "    print(grid_search_results_df['Optimal Parameters'][i])"
   ]
  },
  {
   "cell_type": "code",
   "execution_count": 332,
   "metadata": {},
   "outputs": [],
   "source": [
    "# Then, putting those optimal parameters into new final models to be trained and tested\n",
    "nico_svc_final = SVC(random_state = 11, C=0.5, gamma=0.01, kernel='rbf')\n",
    "nico_rf_final = RandomForestClassifier(random_state = 11, criterion='entropy', max_depth = 10, min_samples_leaf = 5, min_samples_split = 10, n_estimators = 20)\n",
    "nico_gb_final = GradientBoostingClassifier(random_state = 11, learning_rate = 0.3, max_depth = 2, n_estimators = 11)\n",
    "nico_ada_final = AdaBoostClassifier(random_state = 11, learning_rate = 1, n_estimators = 25)\n",
    "nico_xgb_final = xgb.XGBClassifier(seed=11, gamma = 5, learning_rate = 0.1, max_depth = 6)\n",
    "\n",
    "list_of_final_models = [nico_svc_final, nico_rf_final, nico_gb_final, nico_ada_final, nico_xgb_final]"
   ]
  },
  {
   "cell_type": "code",
   "execution_count": 333,
   "metadata": {},
   "outputs": [],
   "source": [
    "# Initializing a train-test-split for final model evaluations\n",
    "X_train_nic, X_test_nic, y_train_nic, y_test_nic = train_test_split(scaled_X, y, test_size=0.20, random_state= 11)  \n"
   ]
  },
  {
   "cell_type": "code",
   "execution_count": 382,
   "metadata": {
    "scrolled": true
   },
   "outputs": [
    {
     "data": {
      "text/html": [
       "<div>\n",
       "<style scoped>\n",
       "    .dataframe tbody tr th:only-of-type {\n",
       "        vertical-align: middle;\n",
       "    }\n",
       "\n",
       "    .dataframe tbody tr th {\n",
       "        vertical-align: top;\n",
       "    }\n",
       "\n",
       "    .dataframe thead th {\n",
       "        text-align: right;\n",
       "    }\n",
       "</style>\n",
       "<table border=\"1\" class=\"dataframe\">\n",
       "  <thead>\n",
       "    <tr style=\"text-align: right;\">\n",
       "      <th></th>\n",
       "      <th>Model Name</th>\n",
       "      <th>Training Accuracy</th>\n",
       "      <th>Testing Accuracy</th>\n",
       "    </tr>\n",
       "  </thead>\n",
       "  <tbody>\n",
       "    <tr>\n",
       "      <th>4</th>\n",
       "      <td>XGB</td>\n",
       "      <td>0.803050</td>\n",
       "      <td>0.737401</td>\n",
       "    </tr>\n",
       "    <tr>\n",
       "      <th>1</th>\n",
       "      <td>Random Forest</td>\n",
       "      <td>0.872679</td>\n",
       "      <td>0.726790</td>\n",
       "    </tr>\n",
       "    <tr>\n",
       "      <th>3</th>\n",
       "      <td>ADA Boost</td>\n",
       "      <td>0.756631</td>\n",
       "      <td>0.716180</td>\n",
       "    </tr>\n",
       "    <tr>\n",
       "      <th>0</th>\n",
       "      <td>SVC</td>\n",
       "      <td>0.740716</td>\n",
       "      <td>0.710875</td>\n",
       "    </tr>\n",
       "    <tr>\n",
       "      <th>2</th>\n",
       "      <td>Gradient Boosting</td>\n",
       "      <td>0.758621</td>\n",
       "      <td>0.708223</td>\n",
       "    </tr>\n",
       "  </tbody>\n",
       "</table>\n",
       "</div>"
      ],
      "text/plain": [
       "          Model Name  Training Accuracy  Testing Accuracy\n",
       "4                XGB           0.803050          0.737401\n",
       "1      Random Forest           0.872679          0.726790\n",
       "3          ADA Boost           0.756631          0.716180\n",
       "0                SVC           0.740716          0.710875\n",
       "2  Gradient Boosting           0.758621          0.708223"
      ]
     },
     "execution_count": 382,
     "metadata": {},
     "output_type": "execute_result"
    }
   ],
   "source": [
    "# Fitting each model to the training data and then test it using the created function\n",
    "model_results_dataframe(list_of_final_models, selected_model_names, X_train_nic, y_train_nic, X_test_nic, y_test_nic)"
   ]
  },
  {
   "cell_type": "markdown",
   "metadata": {},
   "source": [
    "<font color='green'> **XGB and Random Forest appear to be the best models for classifying whether or not somone is a nicotine user. Below, I display the confusion matrix and the classification report for the final random forest nicotine model.**"
   ]
  },
  {
   "cell_type": "code",
   "execution_count": 372,
   "metadata": {
    "scrolled": true
   },
   "outputs": [
    {
     "name": "stdout",
     "output_type": "stream",
     "text": [
      "\n",
      "\n",
      "Accuracy Score: 0.7374005305039788\n",
      "\n",
      "\n",
      "Confusion Matrix:\n"
     ]
    },
    {
     "data": {
      "image/png": "[encoded data removed]",
      "text/plain": [
       "<Figure size 432x288 with 1 Axes>"
      ]
     },
     "metadata": {
      "needs_background": "light"
     },
     "output_type": "display_data"
    },
    {
     "name": "stdout",
     "output_type": "stream",
     "text": [
      "\n",
      "\n",
      "Classification Report:\n",
      "              precision    recall  f1-score   support\n",
      "\n",
      "           0       0.69      0.45      0.54       132\n",
      "           1       0.75      0.89      0.82       245\n",
      "\n",
      "   micro avg       0.74      0.74      0.74       377\n",
      "   macro avg       0.72      0.67      0.68       377\n",
      "weighted avg       0.73      0.74      0.72       377\n",
      "\n"
     ]
    }
   ],
   "source": [
    "results_summary(nico_xgb_final, X_train_nic, y_train_nic, X_test_nic, y_test_nic)"
   ]
  },
  {
   "cell_type": "code",
   "execution_count": 375,
   "metadata": {
    "scrolled": true
   },
   "outputs": [
    {
     "data": {
      "image/png": "[encoded data removed]",
      "text/plain": [
       "<Figure size 432x288 with 1 Axes>"
      ]
     },
     "metadata": {
      "needs_background": "light"
     },
     "output_type": "display_data"
    }
   ],
   "source": [
    "roc_curves(nico_xgb_final, X_train_nic, y_train_nic, X_test_nic, y_test_nic)"
   ]
  },
  {
   "cell_type": "code",
   "execution_count": 489,
   "metadata": {},
   "outputs": [
    {
     "data": {
      "image/png": "[encoded data removed]",
      "text/plain": [
       "<Figure size 432x432 with 1 Axes>"
      ]
     },
     "metadata": {
      "needs_background": "light"
     },
     "output_type": "display_data"
    }
   ],
   "source": [
    "feature_importance_visualization(nico_xgb_final, X_train_nic, y_train_nic, 'Nicotine Feature Importance')"
   ]
  },
  {
   "cell_type": "markdown",
   "metadata": {},
   "source": [
    "# <font color='green'> **Cannabis User Model Tuning**"
   ]
  },
  {
   "cell_type": "markdown",
   "metadata": {},
   "source": [
    "<font color = 'red'> **NOTE:** The reason I have repetitive code here is because doing a grid search for five different classifiers is computationally expensive and takes a lot of time. Instead of writing a loop or function that would add to computation time, I tuned each model separately."
   ]
  },
  {
   "cell_type": "code",
   "execution_count": 277,
   "metadata": {
    "scrolled": true
   },
   "outputs": [
    {
     "data": {
      "text/plain": [
       "GridSearchCV(cv=KFold(n_splits=10, random_state=11, shuffle=True),\n",
       "       error_score='raise-deprecating',\n",
       "       estimator=XGBClassifier(base_score=0.5, booster='gbtree', colsample_bylevel=1,\n",
       "       colsample_bytree=1, gamma=0, learning_rate=0.1, max_delta_step=0,\n",
       "       max_depth=3, min_child_weight=1, missing=None, n_estimators=100,\n",
       "       n_jobs=1, nthread=None, objective='binary:logistic', random_state=0,\n",
       "       reg_alpha=0, reg_lambda=1, scale_pos_weight=1, seed=11, silent=True,\n",
       "       subsample=1),\n",
       "       fit_params=None, iid='warn', n_jobs=None,\n",
       "       param_grid={'learning_rate': [0.05, 0.1, 0.3, 0.9], 'gamma': [0.1, 1, 5, 10], 'max_depth': [2, 3, 6]},\n",
       "       pre_dispatch='2*n_jobs', refit=True, return_train_score='warn',\n",
       "       scoring=None, verbose=0)"
      ]
     },
     "execution_count": 277,
     "metadata": {},
     "output_type": "execute_result"
    }
   ],
   "source": [
    "#Setting y equal to user_nicotine\n",
    "y = finalized_df['User_Cannabis']\n",
    "\n",
    "#Grid search to find best parameters for \n",
    "svm_grid_search = GridSearchCV(binary_svm, svm_param_grid, cv=kfold)\n",
    "svm_grid_search.fit(scaled_X, y)\n",
    "\n",
    "#Gridsearch to find best parameters for random forest model\n",
    "rf_grid_search = GridSearchCV(binary_forest, rf_param_grid, cv=kfold)\n",
    "rf_grid_search.fit(scaled_X, y)\n",
    "\n",
    "gb_grid_search = GridSearchCV(binary_gradient, gb_param_grid, cv=kfold)\n",
    "gb_grid_search.fit(scaled_X, y)\n",
    "\n",
    "ada_grid_search = GridSearchCV(binary_adaboost, ada_param_grid, cv=kfold)\n",
    "ada_grid_search.fit(scaled_X, y)\n",
    "\n",
    "xgb_grid_search = GridSearchCV(binary_XGB, xgb_param_grid, cv=kfold)\n",
    "xgb_grid_search.fit(scaled_X, y)"
   ]
  },
  {
   "cell_type": "code",
   "execution_count": 260,
   "metadata": {},
   "outputs": [],
   "source": [
    "#Putting all of the grid searched models into a list so I can iterate through them and put the results into a dataframe\n",
    "list_of_fitted_grid_searches = [svm_grid_search, rf_grid_search, gb_grid_search, ada_grid_search, xgb_grid_search]"
   ]
  },
  {
   "cell_type": "code",
   "execution_count": 261,
   "metadata": {},
   "outputs": [],
   "source": [
    "# Compiling a list of all the new model accuracies and their optimal parameters into a dataframe\n",
    "grid_search_results_list = []\n",
    "\n",
    "for i, gs in enumerate(list_of_fitted_grid_searches):\n",
    "    \n",
    "    testing_accuracy = str(\"{:.4}%\".format(gs.best_score_ * 100))\n",
    "    optimal_parameters = gs.best_params_\n",
    "\n",
    "    grid_search_results_list.append([selected_model_names[i], testing_accuracy, optimal_parameters])"
   ]
  },
  {
   "cell_type": "code",
   "execution_count": 262,
   "metadata": {},
   "outputs": [
    {
     "data": {
      "text/html": [
       "<div>\n",
       "<style scoped>\n",
       "    .dataframe tbody tr th:only-of-type {\n",
       "        vertical-align: middle;\n",
       "    }\n",
       "\n",
       "    .dataframe tbody tr th {\n",
       "        vertical-align: top;\n",
       "    }\n",
       "\n",
       "    .dataframe thead th {\n",
       "        text-align: right;\n",
       "    }\n",
       "</style>\n",
       "<table border=\"1\" class=\"dataframe\">\n",
       "  <thead>\n",
       "    <tr style=\"text-align: right;\">\n",
       "      <th></th>\n",
       "      <th>Model</th>\n",
       "      <th>Testing Accuracy</th>\n",
       "      <th>Optimal Parameters</th>\n",
       "    </tr>\n",
       "  </thead>\n",
       "  <tbody>\n",
       "    <tr>\n",
       "      <th>0</th>\n",
       "      <td>SVC</td>\n",
       "      <td>81.8%</td>\n",
       "      <td>{'C': 10, 'gamma': 0.01, 'kernel': 'rbf'}</td>\n",
       "    </tr>\n",
       "    <tr>\n",
       "      <th>1</th>\n",
       "      <td>Random Forest</td>\n",
       "      <td>81.33%</td>\n",
       "      <td>{'criterion': 'entropy', 'max_depth': 10, 'min...</td>\n",
       "    </tr>\n",
       "    <tr>\n",
       "      <th>2</th>\n",
       "      <td>Gradient Boosting</td>\n",
       "      <td>81.33%</td>\n",
       "      <td>{'learning_rate': 0.3, 'max_depth': 2, 'n_esti...</td>\n",
       "    </tr>\n",
       "    <tr>\n",
       "      <th>3</th>\n",
       "      <td>ADA Boost</td>\n",
       "      <td>80.9%</td>\n",
       "      <td>{'learning_rate': 0.5, 'n_estimators': 25}</td>\n",
       "    </tr>\n",
       "    <tr>\n",
       "      <th>4</th>\n",
       "      <td>XGB</td>\n",
       "      <td>82.02%</td>\n",
       "      <td>{'gamma': 10, 'learning_rate': 0.3, 'max_depth...</td>\n",
       "    </tr>\n",
       "  </tbody>\n",
       "</table>\n",
       "</div>"
      ],
      "text/plain": [
       "               Model Testing Accuracy  \\\n",
       "0                SVC            81.8%   \n",
       "1      Random Forest           81.33%   \n",
       "2  Gradient Boosting           81.33%   \n",
       "3          ADA Boost            80.9%   \n",
       "4                XGB           82.02%   \n",
       "\n",
       "                                  Optimal Parameters  \n",
       "0          {'C': 10, 'gamma': 0.01, 'kernel': 'rbf'}  \n",
       "1  {'criterion': 'entropy', 'max_depth': 10, 'min...  \n",
       "2  {'learning_rate': 0.3, 'max_depth': 2, 'n_esti...  \n",
       "3         {'learning_rate': 0.5, 'n_estimators': 25}  \n",
       "4  {'gamma': 10, 'learning_rate': 0.3, 'max_depth...  "
      ]
     },
     "execution_count": 262,
     "metadata": {},
     "output_type": "execute_result"
    }
   ],
   "source": [
    "grid_search_results_df = pd.DataFrame(data=grid_search_results_list, columns=['Model', 'Testing Accuracy', 'Optimal Parameters'])\n",
    "grid_search_results_df"
   ]
  },
  {
   "cell_type": "code",
   "execution_count": 264,
   "metadata": {
    "scrolled": true
   },
   "outputs": [
    {
     "name": "stdout",
     "output_type": "stream",
     "text": [
      "Optimal Parameters for SVC: \n",
      "{'C': 10, 'gamma': 0.01, 'kernel': 'rbf'}\n",
      "Optimal Parameters for Random Forest: \n",
      "{'criterion': 'entropy', 'max_depth': 10, 'min_samples_leaf': 1, 'min_samples_split': 20, 'n_estimators': 11}\n",
      "Optimal Parameters for Gradient Boosting: \n",
      "{'learning_rate': 0.3, 'max_depth': 2, 'n_estimators': 11}\n",
      "Optimal Parameters for ADA Boost: \n",
      "{'learning_rate': 0.5, 'n_estimators': 25}\n",
      "Optimal Parameters for XGB: \n",
      "{'gamma': 10, 'learning_rate': 0.3, 'max_depth': 2}\n"
     ]
    }
   ],
   "source": [
    "#Printing out optimal parameters for each model\n",
    "for i in range(0, len(grid_search_results_df['Model'])):\n",
    "    print(\"Optimal Parameters for {}: \".format(grid_search_results_df['Model'][i]))\n",
    "    print(grid_search_results_df['Optimal Parameters'][i])"
   ]
  },
  {
   "cell_type": "code",
   "execution_count": 303,
   "metadata": {},
   "outputs": [],
   "source": [
    "# Then, putting those optimal parameters into new final models to be trained and tested\n",
    "cannabis_svc_final = SVC(random_state = 11, C=10, gamma=0.01, kernel='rbf')\n",
    "cannabis_rf_final = RandomForestClassifier(random_state = 11, criterion='entropy', max_depth = 10, min_samples_leaf = 1, min_samples_split = 20, n_estimators = 11)\n",
    "cannabis_gb_final = GradientBoostingClassifier(random_state = 11, learning_rate = 0.3, max_depth = 2, n_estimators = 11)\n",
    "cannabis_ada_final = AdaBoostClassifier(random_state = 11, learning_rate = 0.5, n_estimators = 25)\n",
    "cannabis_xgb_final = xgb.XGBClassifier(seed=11, gamma = 10, learning_rate = 0.3, max_depth = 2)\n",
    "\n",
    "list_of_final_models = [cannabis_svc_final, cannabis_rf_final, cannabis_gb_final, cannabis_ada_final, cannabis_xgb_final]"
   ]
  },
  {
   "cell_type": "code",
   "execution_count": 304,
   "metadata": {},
   "outputs": [],
   "source": [
    "# Initializing a train-test-split for final model evaluations\n",
    "X_train_cannabis, X_test_cannabis, y_train_cannabis, y_test_cannabis = train_test_split(scaled_X, y, test_size=0.20, random_state= 11)  \n"
   ]
  },
  {
   "cell_type": "code",
   "execution_count": 305,
   "metadata": {
    "scrolled": true
   },
   "outputs": [
    {
     "data": {
      "text/html": [
       "<div>\n",
       "<style scoped>\n",
       "    .dataframe tbody tr th:only-of-type {\n",
       "        vertical-align: middle;\n",
       "    }\n",
       "\n",
       "    .dataframe tbody tr th {\n",
       "        vertical-align: top;\n",
       "    }\n",
       "\n",
       "    .dataframe thead th {\n",
       "        text-align: right;\n",
       "    }\n",
       "</style>\n",
       "<table border=\"1\" class=\"dataframe\">\n",
       "  <thead>\n",
       "    <tr style=\"text-align: right;\">\n",
       "      <th></th>\n",
       "      <th>Model Name</th>\n",
       "      <th>Training Accuracy</th>\n",
       "      <th>Testing Accuracy</th>\n",
       "    </tr>\n",
       "  </thead>\n",
       "  <tbody>\n",
       "    <tr>\n",
       "      <th>0</th>\n",
       "      <td>SVC</td>\n",
       "      <td>0.833554</td>\n",
       "      <td>0.811671</td>\n",
       "    </tr>\n",
       "    <tr>\n",
       "      <th>4</th>\n",
       "      <td>XGB</td>\n",
       "      <td>0.826923</td>\n",
       "      <td>0.787798</td>\n",
       "    </tr>\n",
       "    <tr>\n",
       "      <th>1</th>\n",
       "      <td>Random Forest</td>\n",
       "      <td>0.893236</td>\n",
       "      <td>0.785146</td>\n",
       "    </tr>\n",
       "    <tr>\n",
       "      <th>2</th>\n",
       "      <td>Gradient Boosting</td>\n",
       "      <td>0.830239</td>\n",
       "      <td>0.777188</td>\n",
       "    </tr>\n",
       "    <tr>\n",
       "      <th>3</th>\n",
       "      <td>ADA Boost</td>\n",
       "      <td>0.823607</td>\n",
       "      <td>0.777188</td>\n",
       "    </tr>\n",
       "  </tbody>\n",
       "</table>\n",
       "</div>"
      ],
      "text/plain": [
       "          Model Name  Training Accuracy  Testing Accuracy\n",
       "0                SVC           0.833554          0.811671\n",
       "4                XGB           0.826923          0.787798\n",
       "1      Random Forest           0.893236          0.785146\n",
       "2  Gradient Boosting           0.830239          0.777188\n",
       "3          ADA Boost           0.823607          0.777188"
      ]
     },
     "execution_count": 305,
     "metadata": {},
     "output_type": "execute_result"
    }
   ],
   "source": [
    "# Fitting each model to the training data and then test it using the created function\n",
    "model_results_dataframe(list_of_final_models, selected_model_names, X_train_cannabis, y_train_cannabis, X_test_cannabis, y_test_cannabis)"
   ]
  },
  {
   "cell_type": "markdown",
   "metadata": {},
   "source": [
    "<font color='green'> **XGB and SVC appear to be the best models for classification of whether or not someone is a cannabis user. Below, I display the confusion matrix and the classification report for the final SVC nicotine model.**"
   ]
  },
  {
   "cell_type": "code",
   "execution_count": 377,
   "metadata": {
    "scrolled": true
   },
   "outputs": [
    {
     "name": "stdout",
     "output_type": "stream",
     "text": [
      "\n",
      "\n",
      "Accuracy Score: 0.8116710875331565\n",
      "\n",
      "\n",
      "Confusion Matrix:\n"
     ]
    },
    {
     "data": {
      "image/png": "[encoded data removed]",
      "text/plain": [
       "<Figure size 432x288 with 1 Axes>"
      ]
     },
     "metadata": {
      "needs_background": "light"
     },
     "output_type": "display_data"
    },
    {
     "name": "stdout",
     "output_type": "stream",
     "text": [
      "\n",
      "\n",
      "Classification Report:\n",
      "              precision    recall  f1-score   support\n",
      "\n",
      "           0       0.70      0.76      0.73       124\n",
      "           1       0.88      0.84      0.86       253\n",
      "\n",
      "   micro avg       0.81      0.81      0.81       377\n",
      "   macro avg       0.79      0.80      0.79       377\n",
      "weighted avg       0.82      0.81      0.81       377\n",
      "\n"
     ]
    }
   ],
   "source": [
    "results_summary(cannabis_svc_final, X_train_cannabis, y_train_cannabis, X_test_cannabis, y_test_cannabis)\n",
    "\n"
   ]
  },
  {
   "cell_type": "code",
   "execution_count": 378,
   "metadata": {
    "scrolled": true
   },
   "outputs": [
    {
     "data": {
      "image/png": "[encoded data removed]",
      "text/plain": [
       "<Figure size 432x288 with 1 Axes>"
      ]
     },
     "metadata": {
      "needs_background": "light"
     },
     "output_type": "display_data"
    }
   ],
   "source": [
    "roc_curves(cannabis_svc_final, X_train_cannabis, y_train_cannabis, X_test_cannabis, y_test_cannabis)"
   ]
  },
  {
   "cell_type": "code",
   "execution_count": 488,
   "metadata": {},
   "outputs": [
    {
     "data": {
      "image/png": "[encoded data removed]",
      "text/plain": [
       "<Figure size 432x432 with 1 Axes>"
      ]
     },
     "metadata": {
      "needs_background": "light"
     },
     "output_type": "display_data"
    }
   ],
   "source": [
    "feature_importance_visualization(cannabis_rf_final, X_train_cannabis, y_train_cannabis, \"Cannabis Feature Importance\")"
   ]
  },
  {
   "cell_type": "markdown",
   "metadata": {},
   "source": [
    "# <font color='green'> **Illegal Drugs User Model Tuning**"
   ]
  },
  {
   "cell_type": "markdown",
   "metadata": {},
   "source": [
    "<font color = 'red'> **NOTE:** The reason I have repetitive code here is because doing a grid search for five different classifiers is computationally expensive and takes a lot of time. Instead of writing a loop or function that would add to computation time, I tuned each model separately."
   ]
  },
  {
   "cell_type": "code",
   "execution_count": 269,
   "metadata": {
    "scrolled": true
   },
   "outputs": [
    {
     "data": {
      "text/plain": [
       "GridSearchCV(cv=KFold(n_splits=10, random_state=11, shuffle=True),\n",
       "       error_score='raise-deprecating',\n",
       "       estimator=XGBClassifier(base_score=0.5, booster='gbtree', colsample_bylevel=1,\n",
       "       colsample_bytree=1, gamma=0, learning_rate=0.1, max_delta_step=0,\n",
       "       max_depth=3, min_child_weight=1, missing=None, n_estimators=100,\n",
       "       n_jobs=1, nthread=None, objective='binary:logistic', random_state=0,\n",
       "       reg_alpha=0, reg_lambda=1, scale_pos_weight=1, seed=11, silent=True,\n",
       "       subsample=1),\n",
       "       fit_params=None, iid='warn', n_jobs=None,\n",
       "       param_grid={'learning_rate': [0.05, 0.1, 0.3, 0.9], 'gamma': [0.1, 1, 5, 10], 'max_depth': [2, 3, 6]},\n",
       "       pre_dispatch='2*n_jobs', refit=True, return_train_score='warn',\n",
       "       scoring=None, verbose=0)"
      ]
     },
     "execution_count": 269,
     "metadata": {},
     "output_type": "execute_result"
    }
   ],
   "source": [
    "#Setting y equal to user_nicotine\n",
    "y = finalized_df['User_Illegal_Drugs']\n",
    "\n",
    "#Grid search to find best parameters for \n",
    "svm_grid_search = GridSearchCV(binary_svm, svm_param_grid, cv=kfold)\n",
    "svm_grid_search.fit(scaled_X, y)\n",
    "\n",
    "#Gridsearch to find best parameters for random forest model\n",
    "rf_grid_search = GridSearchCV(binary_forest, rf_param_grid, cv=kfold)\n",
    "rf_grid_search.fit(scaled_X, y)\n",
    "\n",
    "gb_grid_search = GridSearchCV(binary_gradient, gb_param_grid, cv=kfold)\n",
    "gb_grid_search.fit(scaled_X, y)\n",
    "\n",
    "ada_grid_search = GridSearchCV(binary_adaboost, ada_param_grid, cv=kfold)\n",
    "ada_grid_search.fit(scaled_X, y)\n",
    "\n",
    "xgb_grid_search = GridSearchCV(binary_XGB, xgb_param_grid, cv=kfold)\n",
    "xgb_grid_search.fit(scaled_X, y)"
   ]
  },
  {
   "cell_type": "code",
   "execution_count": 270,
   "metadata": {},
   "outputs": [],
   "source": [
    "#Putting all of the grid searched models into a list so I can iterate through them and put the results into a dataframe\n",
    "list_of_fitted_grid_searches = [svm_grid_search, rf_grid_search, gb_grid_search, ada_grid_search, xgb_grid_search]"
   ]
  },
  {
   "cell_type": "code",
   "execution_count": 271,
   "metadata": {},
   "outputs": [],
   "source": [
    "# Compiling a list of all the new model accuracies and their optimal parameters into a dataframe\n",
    "grid_search_results_list = []\n",
    "\n",
    "for i, gs in enumerate(list_of_fitted_grid_searches):\n",
    "    \n",
    "    testing_accuracy = str(\"{:.4}%\".format(gs.best_score_ * 100))\n",
    "    optimal_parameters = gs.best_params_\n",
    "\n",
    "    grid_search_results_list.append([selected_model_names[i], testing_accuracy, optimal_parameters])"
   ]
  },
  {
   "cell_type": "code",
   "execution_count": 272,
   "metadata": {},
   "outputs": [
    {
     "data": {
      "text/html": [
       "<div>\n",
       "<style scoped>\n",
       "    .dataframe tbody tr th:only-of-type {\n",
       "        vertical-align: middle;\n",
       "    }\n",
       "\n",
       "    .dataframe tbody tr th {\n",
       "        vertical-align: top;\n",
       "    }\n",
       "\n",
       "    .dataframe thead th {\n",
       "        text-align: right;\n",
       "    }\n",
       "</style>\n",
       "<table border=\"1\" class=\"dataframe\">\n",
       "  <thead>\n",
       "    <tr style=\"text-align: right;\">\n",
       "      <th></th>\n",
       "      <th>Model</th>\n",
       "      <th>Testing Accuracy</th>\n",
       "      <th>Optimal Parameters</th>\n",
       "    </tr>\n",
       "  </thead>\n",
       "  <tbody>\n",
       "    <tr>\n",
       "      <th>0</th>\n",
       "      <td>SVC</td>\n",
       "      <td>80.27%</td>\n",
       "      <td>{'C': 5, 'gamma': 0.01, 'kernel': 'rbf'}</td>\n",
       "    </tr>\n",
       "    <tr>\n",
       "      <th>1</th>\n",
       "      <td>Random Forest</td>\n",
       "      <td>80.27%</td>\n",
       "      <td>{'criterion': 'gini', 'max_depth': 10, 'min_sa...</td>\n",
       "    </tr>\n",
       "    <tr>\n",
       "      <th>2</th>\n",
       "      <td>Gradient Boosting</td>\n",
       "      <td>78.89%</td>\n",
       "      <td>{'learning_rate': 0.3, 'max_depth': 4, 'n_esti...</td>\n",
       "    </tr>\n",
       "    <tr>\n",
       "      <th>3</th>\n",
       "      <td>ADA Boost</td>\n",
       "      <td>78.83%</td>\n",
       "      <td>{'learning_rate': 1.0, 'n_estimators': 25}</td>\n",
       "    </tr>\n",
       "    <tr>\n",
       "      <th>4</th>\n",
       "      <td>XGB</td>\n",
       "      <td>79.95%</td>\n",
       "      <td>{'gamma': 0.1, 'learning_rate': 0.3, 'max_dept...</td>\n",
       "    </tr>\n",
       "  </tbody>\n",
       "</table>\n",
       "</div>"
      ],
      "text/plain": [
       "               Model Testing Accuracy  \\\n",
       "0                SVC           80.27%   \n",
       "1      Random Forest           80.27%   \n",
       "2  Gradient Boosting           78.89%   \n",
       "3          ADA Boost           78.83%   \n",
       "4                XGB           79.95%   \n",
       "\n",
       "                                  Optimal Parameters  \n",
       "0           {'C': 5, 'gamma': 0.01, 'kernel': 'rbf'}  \n",
       "1  {'criterion': 'gini', 'max_depth': 10, 'min_sa...  \n",
       "2  {'learning_rate': 0.3, 'max_depth': 4, 'n_esti...  \n",
       "3         {'learning_rate': 1.0, 'n_estimators': 25}  \n",
       "4  {'gamma': 0.1, 'learning_rate': 0.3, 'max_dept...  "
      ]
     },
     "execution_count": 272,
     "metadata": {},
     "output_type": "execute_result"
    }
   ],
   "source": [
    "grid_search_results_df = pd.DataFrame(data=grid_search_results_list, columns=['Model', 'Testing Accuracy', 'Optimal Parameters'])\n",
    "grid_search_results_df"
   ]
  },
  {
   "cell_type": "code",
   "execution_count": 273,
   "metadata": {
    "scrolled": true
   },
   "outputs": [
    {
     "name": "stdout",
     "output_type": "stream",
     "text": [
      "Optimal Parameters for SVC: \n",
      "{'C': 5, 'gamma': 0.01, 'kernel': 'rbf'}\n",
      "Optimal Parameters for Random Forest: \n",
      "{'criterion': 'gini', 'max_depth': 10, 'min_samples_leaf': 5, 'min_samples_split': 15, 'n_estimators': 20}\n",
      "Optimal Parameters for Gradient Boosting: \n",
      "{'learning_rate': 0.3, 'max_depth': 4, 'n_estimators': 11}\n",
      "Optimal Parameters for ADA Boost: \n",
      "{'learning_rate': 1.0, 'n_estimators': 25}\n",
      "Optimal Parameters for XGB: \n",
      "{'gamma': 0.1, 'learning_rate': 0.3, 'max_depth': 2}\n"
     ]
    }
   ],
   "source": [
    "#Printing out optimal parameters for each model\n",
    "for i in range(0, len(grid_search_results_df['Model'])):\n",
    "    print(\"Optimal Parameters for {}: \".format(grid_search_results_df['Model'][i]))\n",
    "    print(grid_search_results_df['Optimal Parameters'][i])"
   ]
  },
  {
   "cell_type": "code",
   "execution_count": 315,
   "metadata": {},
   "outputs": [],
   "source": [
    "# Then, putting those optimal parameters into new final models to be trained and tested\n",
    "illegal_svc_final = SVC(random_state = 11, C=5, gamma=0.01, kernel='rbf')\n",
    "illegal_rf_final = RandomForestClassifier(random_state = 11, criterion='gini', max_depth = 10, min_samples_leaf = 5, min_samples_split = 15, n_estimators = 20)\n",
    "illegal_gb_final = GradientBoostingClassifier(random_state = 11, learning_rate = 0.3, max_depth = 4, n_estimators = 11)\n",
    "illegal_ada_final = AdaBoostClassifier(random_state = 11, learning_rate = 1, n_estimators = 25)\n",
    "illegal_xgb_final = xgb.XGBClassifier(seed=11, gamma = 0.1, learning_rate = 0.3, max_depth = 2)\n",
    "\n",
    "list_of_final_models = [illegal_svc_final, illegal_rf_final, illegal_gb_final, illegal_ada_final, illegal_xgb_final]"
   ]
  },
  {
   "cell_type": "code",
   "execution_count": 316,
   "metadata": {},
   "outputs": [],
   "source": [
    "# Initializing a train-test-split for final model evaluations\n",
    "X_train_illegal, X_test_illegal, y_train_illegal, y_test_illegal = train_test_split(scaled_X, y, test_size=0.20, random_state= 11)  \n"
   ]
  },
  {
   "cell_type": "code",
   "execution_count": 317,
   "metadata": {
    "scrolled": false
   },
   "outputs": [
    {
     "data": {
      "text/html": [
       "<div>\n",
       "<style scoped>\n",
       "    .dataframe tbody tr th:only-of-type {\n",
       "        vertical-align: middle;\n",
       "    }\n",
       "\n",
       "    .dataframe tbody tr th {\n",
       "        vertical-align: top;\n",
       "    }\n",
       "\n",
       "    .dataframe thead th {\n",
       "        text-align: right;\n",
       "    }\n",
       "</style>\n",
       "<table border=\"1\" class=\"dataframe\">\n",
       "  <thead>\n",
       "    <tr style=\"text-align: right;\">\n",
       "      <th></th>\n",
       "      <th>Model Name</th>\n",
       "      <th>Training Accuracy</th>\n",
       "      <th>Testing Accuracy</th>\n",
       "    </tr>\n",
       "  </thead>\n",
       "  <tbody>\n",
       "    <tr>\n",
       "      <th>0</th>\n",
       "      <td>SVC</td>\n",
       "      <td>0.831565</td>\n",
       "      <td>0.809019</td>\n",
       "    </tr>\n",
       "    <tr>\n",
       "      <th>1</th>\n",
       "      <td>Random Forest</td>\n",
       "      <td>0.890584</td>\n",
       "      <td>0.793103</td>\n",
       "    </tr>\n",
       "    <tr>\n",
       "      <th>2</th>\n",
       "      <td>Gradient Boosting</td>\n",
       "      <td>0.876658</td>\n",
       "      <td>0.787798</td>\n",
       "    </tr>\n",
       "    <tr>\n",
       "      <th>4</th>\n",
       "      <td>XGB</td>\n",
       "      <td>0.876658</td>\n",
       "      <td>0.782493</td>\n",
       "    </tr>\n",
       "    <tr>\n",
       "      <th>3</th>\n",
       "      <td>ADA Boost</td>\n",
       "      <td>0.818966</td>\n",
       "      <td>0.777188</td>\n",
       "    </tr>\n",
       "  </tbody>\n",
       "</table>\n",
       "</div>"
      ],
      "text/plain": [
       "          Model Name  Training Accuracy  Testing Accuracy\n",
       "0                SVC           0.831565          0.809019\n",
       "1      Random Forest           0.890584          0.793103\n",
       "2  Gradient Boosting           0.876658          0.787798\n",
       "4                XGB           0.876658          0.782493\n",
       "3          ADA Boost           0.818966          0.777188"
      ]
     },
     "execution_count": 317,
     "metadata": {},
     "output_type": "execute_result"
    }
   ],
   "source": [
    "# Fitting each model to the training data and then test it using the created function    \n",
    "model_results_dataframe(list_of_final_models, selected_model_names, X_train_illegal, y_train_illegal, X_test_illegal, y_test_illegal)"
   ]
  },
  {
   "cell_type": "markdown",
   "metadata": {},
   "source": [
    "<font color='green'> **Here, random forest and svc appear to be the best models for classification of whether or not someone is a cannabis user. Below, I display the confusion matrix and the classification report for the final random forest illegal drugs model.**"
   ]
  },
  {
   "cell_type": "code",
   "execution_count": 379,
   "metadata": {},
   "outputs": [
    {
     "name": "stdout",
     "output_type": "stream",
     "text": [
      "\n",
      "\n",
      "Accuracy Score: 0.7931034482758621\n",
      "\n",
      "\n",
      "Confusion Matrix:\n"
     ]
    },
    {
     "data": {
      "image/png": "[encoded data removed]",
      "text/plain": [
       "<Figure size 432x288 with 1 Axes>"
      ]
     },
     "metadata": {
      "needs_background": "light"
     },
     "output_type": "display_data"
    },
    {
     "name": "stdout",
     "output_type": "stream",
     "text": [
      "\n",
      "\n",
      "Classification Report:\n",
      "              precision    recall  f1-score   support\n",
      "\n",
      "           0       0.68      0.69      0.69       124\n",
      "           1       0.85      0.84      0.85       253\n",
      "\n",
      "   micro avg       0.79      0.79      0.79       377\n",
      "   macro avg       0.77      0.77      0.77       377\n",
      "weighted avg       0.79      0.79      0.79       377\n",
      "\n"
     ]
    }
   ],
   "source": [
    "results_summary(illegal_svc_final, X_train_illegal, y_train_illegal, X_test_illegal, y_test_illegal)"
   ]
  },
  {
   "cell_type": "code",
   "execution_count": 380,
   "metadata": {
    "scrolled": false
   },
   "outputs": [
    {
     "data": {
      "image/png": "[encoded data removed]",
      "text/plain": [
       "<Figure size 432x288 with 1 Axes>"
      ]
     },
     "metadata": {
      "needs_background": "light"
     },
     "output_type": "display_data"
    }
   ],
   "source": [
    "roc_curves(illegal_svc_final, X_train_illegal, y_train_illegal, X_test_illegal, y_test_illegal)"
   ]
  },
  {
   "cell_type": "code",
   "execution_count": 487,
   "metadata": {},
   "outputs": [
    {
     "data": {
      "image/png": "[encoded data removed]",
      "text/plain": [
       "<Figure size 432x432 with 1 Axes>"
      ]
     },
     "metadata": {
      "needs_background": "light"
     },
     "output_type": "display_data"
    }
   ],
   "source": [
    "feature_importance_visualization(illegal_rf_final, X_train_illegal, y_train_illegal, 'Illegal Drugs Feature Importance')"
   ]
  },
  {
   "cell_type": "markdown",
   "metadata": {},
   "source": [
    "# <font color='green'> Modeling Conclusions"
   ]
  },
  {
   "cell_type": "markdown",
   "metadata": {},
   "source": [
    "After testing simple models, scaling and hyperparameter tuning, and evaluating the final models, I've arrived at what I believe to be an optimized model for each of the classifiers.\n",
    "\n",
    "**Nicotine Users**\n",
    "- For classifying whether or not someone is a nicotine user, the random forest model yielded the highest accuracy results at 73.7%.\n",
    "- The most important features in the model were SS, Country, Age and Education\n",
    "\n",
    "**Cannabis Users**\n",
    "- For classifying whether or not someone is a cannabis user, the SVC model yielded the highest accuracy results at 81.1%\n",
    "- The most important features in the model were SS, Country, Age and Gender\n",
    "\n",
    "**Illegal Drug Users**\n",
    "- For classifying whether or not someone is an illegal drugs user, the SVC model yielded the highest accuracy results at 80.9%\n",
    "- The most important features in the model were Country, SS, Age, and Oscore\n",
    "\n",
    "It is interesting that Nicotine use seems to be the most difficult to predict using personality features. "
   ]
  },
  {
   "cell_type": "markdown",
   "metadata": {},
   "source": [
    "# <font color='blue'> Hypothesis Testing for Significant Differences between Users and Non-Users"
   ]
  },
  {
   "cell_type": "markdown",
   "metadata": {},
   "source": [
    "For each classifier (nicotine user, cannabis user, illegal drug user) I will test to see if there is a significant difference between each of the groups for each of the 7 personality trait features. To test these, I will use a welch's t-test to determine if the difference between the means of the two groups is significant. "
   ]
  },
  {
   "cell_type": "markdown",
   "metadata": {},
   "source": [
    "## <font color='green'> Nicotine User Hypothesis Tests\n",
    "    \n",
    "H$_0$: $\\mu_{Nicotine User Scores}$ = $\\mu_{Nicotine Non-User Scores}$ <br>\n",
    "H$_a$: $\\mu_{Nicotine User Scores}$ ≠ $\\mu_{Nicotine Non-User Scores}$"
   ]
  },
  {
   "cell_type": "code",
   "execution_count": 482,
   "metadata": {},
   "outputs": [],
   "source": [
    "#Creating a dataframe to store the results of the tests\n",
    "nicotine_comparison_df = pd.DataFrame(columns = ['Feature Name', 'User Mean', 'Non-User Mean', \n",
    "                                        'Effect Size', 'p-val', 'Effect Size Cohen',\n",
    "                                        'Result Sentence'])\n",
    "\n",
    "#Using a standard scalar to scale all of the data before t-testing\n",
    "finalized_df.iloc[:,:12] = scale.fit_transform(finalized_df.iloc[:,:12])\n",
    "\n",
    "#This loop iterates through a list of all 7 personality trait columns and performs a t-test between users and non-users\n",
    "#for each trait\n",
    "for col in list(finalized_df.columns[5:-3]):\n",
    "    non_user_data = finalized_df[finalized_df['User_Nicotine']==0][col]\n",
    "    user_data = finalized_df[finalized_df['User_Nicotine']==1][col]\n",
    "    \n",
    "    non_user_mean = non_user_data.mean()\n",
    "    user_mean = user_data.mean()\n",
    "    \n",
    "    #Using helper function to get p_val and effect sizes\n",
    "    p_val, effect_size_quantity, effect_size_cohen = ttest_helper(non_user_data, user_data)\n",
    "    \n",
    "    p_val = round(p_val, 4)\n",
    "    \n",
    "    \n",
    "    # Creating summary sentences to put into the dataframe\n",
    "    if (user_mean > non_user_mean) & (p_val < 0.05):\n",
    "        result_sentence = str('Users have higher {} scores than Non-users'.format(col))\n",
    "        \n",
    "    elif(non_user_mean > user_mean) & (p_val < 0.05):\n",
    "        result_sentence = str('Users have lower {} scores than Non-users'.format(col))\n",
    "        \n",
    "    else:\n",
    "        result_sentence = str('No statistically significant difference')\n",
    "    \n",
    "    #Updating the dataframe with the results\n",
    "    nicotine_comparison_df = nicotine_comparison_df.append({'Feature Name': col, 'User Mean': user_mean, 'Non-User Mean': non_user_mean,\n",
    "                                         'Effect Size': effect_size_quantity, 'p-val': p_val, \n",
    "                                         'Effect Size Cohen': effect_size_cohen, \n",
    "                                         'Result Sentence': result_sentence}, ignore_index=True)"
   ]
  },
  {
   "cell_type": "code",
   "execution_count": 483,
   "metadata": {
    "scrolled": true
   },
   "outputs": [
    {
     "data": {
      "text/html": [
       "<div>\n",
       "<style scoped>\n",
       "    .dataframe tbody tr th:only-of-type {\n",
       "        vertical-align: middle;\n",
       "    }\n",
       "\n",
       "    .dataframe tbody tr th {\n",
       "        vertical-align: top;\n",
       "    }\n",
       "\n",
       "    .dataframe thead th {\n",
       "        text-align: right;\n",
       "    }\n",
       "</style>\n",
       "<table border=\"1\" class=\"dataframe\">\n",
       "  <thead>\n",
       "    <tr style=\"text-align: right;\">\n",
       "      <th></th>\n",
       "      <th>Feature Name</th>\n",
       "      <th>User Mean</th>\n",
       "      <th>Non-User Mean</th>\n",
       "      <th>Effect Size</th>\n",
       "      <th>p-val</th>\n",
       "      <th>Effect Size Cohen</th>\n",
       "      <th>Result Sentence</th>\n",
       "    </tr>\n",
       "  </thead>\n",
       "  <tbody>\n",
       "    <tr>\n",
       "      <th>0</th>\n",
       "      <td>Nscore</td>\n",
       "      <td>0.089175</td>\n",
       "      <td>-0.181509</td>\n",
       "      <td>-0.27</td>\n",
       "      <td>0.0000</td>\n",
       "      <td>-0.273</td>\n",
       "      <td>Users have higher Nscore scores than Non-users</td>\n",
       "    </tr>\n",
       "    <tr>\n",
       "      <th>1</th>\n",
       "      <td>Escore</td>\n",
       "      <td>-0.006869</td>\n",
       "      <td>0.013982</td>\n",
       "      <td>0.02</td>\n",
       "      <td>0.6631</td>\n",
       "      <td>0.021</td>\n",
       "      <td>No statistically significant difference</td>\n",
       "    </tr>\n",
       "    <tr>\n",
       "      <th>2</th>\n",
       "      <td>Oscore</td>\n",
       "      <td>0.146168</td>\n",
       "      <td>-0.297514</td>\n",
       "      <td>-0.44</td>\n",
       "      <td>0.0000</td>\n",
       "      <td>-0.453</td>\n",
       "      <td>Users have higher Oscore scores than Non-users</td>\n",
       "    </tr>\n",
       "    <tr>\n",
       "      <th>3</th>\n",
       "      <td>Ascore</td>\n",
       "      <td>-0.081971</td>\n",
       "      <td>0.166845</td>\n",
       "      <td>0.25</td>\n",
       "      <td>0.0000</td>\n",
       "      <td>0.250</td>\n",
       "      <td>Users have lower Ascore scores than Non-users</td>\n",
       "    </tr>\n",
       "    <tr>\n",
       "      <th>4</th>\n",
       "      <td>Cscore</td>\n",
       "      <td>-0.140381</td>\n",
       "      <td>0.285735</td>\n",
       "      <td>0.43</td>\n",
       "      <td>0.0000</td>\n",
       "      <td>0.435</td>\n",
       "      <td>Users have lower Cscore scores than Non-users</td>\n",
       "    </tr>\n",
       "    <tr>\n",
       "      <th>5</th>\n",
       "      <td>Impulsive</td>\n",
       "      <td>0.150218</td>\n",
       "      <td>-0.305758</td>\n",
       "      <td>-0.46</td>\n",
       "      <td>0.0000</td>\n",
       "      <td>-0.467</td>\n",
       "      <td>Users have higher Impulsive scores than Non-users</td>\n",
       "    </tr>\n",
       "    <tr>\n",
       "      <th>6</th>\n",
       "      <td>SS</td>\n",
       "      <td>0.211002</td>\n",
       "      <td>-0.429480</td>\n",
       "      <td>-0.64</td>\n",
       "      <td>0.0000</td>\n",
       "      <td>-0.671</td>\n",
       "      <td>Users have higher SS scores than Non-users</td>\n",
       "    </tr>\n",
       "  </tbody>\n",
       "</table>\n",
       "</div>"
      ],
      "text/plain": [
       "  Feature Name  User Mean  Non-User Mean  Effect Size   p-val  \\\n",
       "0       Nscore   0.089175      -0.181509        -0.27  0.0000   \n",
       "1       Escore  -0.006869       0.013982         0.02  0.6631   \n",
       "2       Oscore   0.146168      -0.297514        -0.44  0.0000   \n",
       "3       Ascore  -0.081971       0.166845         0.25  0.0000   \n",
       "4       Cscore  -0.140381       0.285735         0.43  0.0000   \n",
       "5    Impulsive   0.150218      -0.305758        -0.46  0.0000   \n",
       "6           SS   0.211002      -0.429480        -0.64  0.0000   \n",
       "\n",
       "   Effect Size Cohen                                    Result Sentence  \n",
       "0             -0.273     Users have higher Nscore scores than Non-users  \n",
       "1              0.021            No statistically significant difference  \n",
       "2             -0.453     Users have higher Oscore scores than Non-users  \n",
       "3              0.250      Users have lower Ascore scores than Non-users  \n",
       "4              0.435      Users have lower Cscore scores than Non-users  \n",
       "5             -0.467  Users have higher Impulsive scores than Non-users  \n",
       "6             -0.671         Users have higher SS scores than Non-users  "
      ]
     },
     "execution_count": 483,
     "metadata": {},
     "output_type": "execute_result"
    }
   ],
   "source": [
    "nicotine_comparison_df"
   ]
  },
  {
   "cell_type": "markdown",
   "metadata": {},
   "source": [
    "## <font color='green'> Nicotine Hypothesis Test Findings"
   ]
  },
  {
   "cell_type": "markdown",
   "metadata": {},
   "source": [
    "Nicotine users have higher...\n",
    "- Neuroticism\n",
    "- Openness to experience\n",
    "- Impulsiveness\n",
    "- Sensation Seeking\n",
    "\n",
    "Nicotine non-users have higher...\n",
    "- Agreeableness\n",
    "- Conscientiousness\n",
    "\n",
    "Users and non-users show no statistical difference for....\n",
    "- Extraversion\n",
    "\n",
    "The biggest differences in terms of effect size between the two groups are sensation seeking and impulsiveness."
   ]
  },
  {
   "cell_type": "markdown",
   "metadata": {},
   "source": [
    "## <font color='green'> Cannabis User Hypothesis Tests\n",
    "    \n",
    "H$_0$: $\\mu_{Cannabis User Scores}$ = $\\mu_{Cannabis Non-User Scores}$ <br>\n",
    "H$_a$: $\\mu_{Cannabis User Scores}$ ≠ $\\mu_{Cannabis Non-User Scores}$"
   ]
  },
  {
   "cell_type": "code",
   "execution_count": 478,
   "metadata": {},
   "outputs": [],
   "source": [
    "#Creating a dataframe to store the results of the tests\n",
    "cannabis_comparison_df = pd.DataFrame(columns = ['Feature Name', 'User Mean', 'Non-User Mean', \n",
    "                                        'Effect Size', 'p-val', 'Effect Size Cohen',\n",
    "                                        'Result Sentence'])\n",
    "\n",
    "#Using a standard scalar to scale all of the data before t-testing\n",
    "finalized_df.iloc[:,:12] = scale.fit_transform(finalized_df.iloc[:,:12])\n",
    "\n",
    "#This loop iterates through a list of all 7 personality trait columns and performs a t-test between users and non-users\n",
    "#for each trait\n",
    "for col in list(finalized_df.columns[5:-3]):\n",
    "    non_user_data = finalized_df[finalized_df['User_Cannabis']==0][col]\n",
    "    user_data = finalized_df[finalized_df['User_Cannabis']==1][col]\n",
    "    \n",
    "    non_user_mean = non_user_data.mean()\n",
    "    user_mean = user_data.mean()\n",
    "    \n",
    "    #Using helper function to get p_val and effect sizes\n",
    "    p_val, effect_size_quantity, effect_size_cohen = ttest_helper(non_user_data, user_data)\n",
    "    \n",
    "    p_val = round(p_val, 4)\n",
    "    \n",
    "    \n",
    "    # Creating summary sentences to put into the dataframe\n",
    "    if (user_mean > non_user_mean) & (p_val < 0.05):\n",
    "        result_sentence = str('Users have higher {} scores than Non-users'.format(col))\n",
    "        \n",
    "    elif(non_user_mean > user_mean) & (p_val < 0.05):\n",
    "        result_sentence = str('Users have lower {} scores than Non-users'.format(col))\n",
    "        \n",
    "    else:\n",
    "        result_sentence = str('No statistically significant difference')\n",
    "    \n",
    "    #Updating the dataframe with the results\n",
    "    cannabis_comparison_df = cannabis_comparison_df.append({'Feature Name': col, 'User Mean': user_mean, 'Non-User Mean': non_user_mean,\n",
    "                                         'Effect Size': effect_size_quantity, 'p-val': p_val, \n",
    "                                         'Effect Size Cohen': effect_size_cohen, \n",
    "                                         'Result Sentence': result_sentence}, ignore_index=True)"
   ]
  },
  {
   "cell_type": "code",
   "execution_count": 479,
   "metadata": {
    "scrolled": true
   },
   "outputs": [
    {
     "data": {
      "text/html": [
       "<div>\n",
       "<style scoped>\n",
       "    .dataframe tbody tr th:only-of-type {\n",
       "        vertical-align: middle;\n",
       "    }\n",
       "\n",
       "    .dataframe tbody tr th {\n",
       "        vertical-align: top;\n",
       "    }\n",
       "\n",
       "    .dataframe thead th {\n",
       "        text-align: right;\n",
       "    }\n",
       "</style>\n",
       "<table border=\"1\" class=\"dataframe\">\n",
       "  <thead>\n",
       "    <tr style=\"text-align: right;\">\n",
       "      <th></th>\n",
       "      <th>Feature Name</th>\n",
       "      <th>User Mean</th>\n",
       "      <th>Non-User Mean</th>\n",
       "      <th>Effect Size</th>\n",
       "      <th>p-val</th>\n",
       "      <th>Effect Size Cohen</th>\n",
       "      <th>Result Sentence</th>\n",
       "    </tr>\n",
       "  </thead>\n",
       "  <tbody>\n",
       "    <tr>\n",
       "      <th>0</th>\n",
       "      <td>Nscore</td>\n",
       "      <td>0.097767</td>\n",
       "      <td>-0.199476</td>\n",
       "      <td>-0.30</td>\n",
       "      <td>0.0000</td>\n",
       "      <td>-0.300</td>\n",
       "      <td>Users have higher Nscore scores than non-users</td>\n",
       "    </tr>\n",
       "    <tr>\n",
       "      <th>1</th>\n",
       "      <td>Escore</td>\n",
       "      <td>-0.027166</td>\n",
       "      <td>0.055428</td>\n",
       "      <td>0.08</td>\n",
       "      <td>0.0776</td>\n",
       "      <td>0.083</td>\n",
       "      <td>No statistically significant difference</td>\n",
       "    </tr>\n",
       "    <tr>\n",
       "      <th>2</th>\n",
       "      <td>Oscore</td>\n",
       "      <td>0.245181</td>\n",
       "      <td>-0.500249</td>\n",
       "      <td>-0.75</td>\n",
       "      <td>0.0000</td>\n",
       "      <td>-0.795</td>\n",
       "      <td>Users have higher Oscore scores than non-users</td>\n",
       "    </tr>\n",
       "    <tr>\n",
       "      <th>3</th>\n",
       "      <td>Ascore</td>\n",
       "      <td>-0.117396</td>\n",
       "      <td>0.239525</td>\n",
       "      <td>0.36</td>\n",
       "      <td>0.0000</td>\n",
       "      <td>0.362</td>\n",
       "      <td>Users have lower Ascore scores than non-users</td>\n",
       "    </tr>\n",
       "    <tr>\n",
       "      <th>4</th>\n",
       "      <td>Cscore</td>\n",
       "      <td>-0.190383</td>\n",
       "      <td>0.388442</td>\n",
       "      <td>0.58</td>\n",
       "      <td>0.0000</td>\n",
       "      <td>0.601</td>\n",
       "      <td>Users have lower Cscore scores than non-users</td>\n",
       "    </tr>\n",
       "    <tr>\n",
       "      <th>5</th>\n",
       "      <td>Impulsive</td>\n",
       "      <td>0.206695</td>\n",
       "      <td>-0.421725</td>\n",
       "      <td>-0.63</td>\n",
       "      <td>0.0000</td>\n",
       "      <td>-0.657</td>\n",
       "      <td>Users have higher Impulsive scores than non-users</td>\n",
       "    </tr>\n",
       "    <tr>\n",
       "      <th>6</th>\n",
       "      <td>SS</td>\n",
       "      <td>0.286898</td>\n",
       "      <td>-0.585364</td>\n",
       "      <td>-0.87</td>\n",
       "      <td>0.0000</td>\n",
       "      <td>-0.956</td>\n",
       "      <td>Users have higher SS scores than non-users</td>\n",
       "    </tr>\n",
       "  </tbody>\n",
       "</table>\n",
       "</div>"
      ],
      "text/plain": [
       "  Feature Name  User Mean  Non-User Mean  Effect Size   p-val  \\\n",
       "0       Nscore   0.097767      -0.199476        -0.30  0.0000   \n",
       "1       Escore  -0.027166       0.055428         0.08  0.0776   \n",
       "2       Oscore   0.245181      -0.500249        -0.75  0.0000   \n",
       "3       Ascore  -0.117396       0.239525         0.36  0.0000   \n",
       "4       Cscore  -0.190383       0.388442         0.58  0.0000   \n",
       "5    Impulsive   0.206695      -0.421725        -0.63  0.0000   \n",
       "6           SS   0.286898      -0.585364        -0.87  0.0000   \n",
       "\n",
       "   Effect Size Cohen                                    Result Sentence  \n",
       "0             -0.300     Users have higher Nscore scores than non-users  \n",
       "1              0.083            No statistically significant difference  \n",
       "2             -0.795     Users have higher Oscore scores than non-users  \n",
       "3              0.362      Users have lower Ascore scores than non-users  \n",
       "4              0.601      Users have lower Cscore scores than non-users  \n",
       "5             -0.657  Users have higher Impulsive scores than non-users  \n",
       "6             -0.956         Users have higher SS scores than non-users  "
      ]
     },
     "execution_count": 479,
     "metadata": {},
     "output_type": "execute_result"
    }
   ],
   "source": [
    "cannabis_comparison_df"
   ]
  },
  {
   "cell_type": "markdown",
   "metadata": {},
   "source": [
    "## <font color='green'> Cannabis Hypothesis Test Findings"
   ]
  },
  {
   "cell_type": "markdown",
   "metadata": {},
   "source": [
    "Cannabis users have higher...\n",
    "- Neuroticism\n",
    "- Openness to experience\n",
    "- Impulsiveness\n",
    "- Sensation Seeking\n",
    "\n",
    "Cannabis non-users have higher...\n",
    "- Agreeableness\n",
    "- Conscientiousness\n",
    "\n",
    "Users and non-users show no statistical difference for....\n",
    "- Extraversion\n",
    "\n",
    "The biggest differences in terms of effect size between the two groups are sensation seeking and openness to experience"
   ]
  },
  {
   "cell_type": "markdown",
   "metadata": {},
   "source": [
    "## <font color='green'> IllegalDrugs User Hypothesis Tests\n",
    "    \n",
    "H$_0$: $\\mu_{IllegalDrugs User Scores}$ = $\\mu_{IllegalDrugs Non-User Scores}$ <br>\n",
    "H$_a$: $\\mu_{IllegalDrugs User Scores}$ ≠ $\\mu_{IllegalDrugs Non-User Scores}$"
   ]
  },
  {
   "cell_type": "code",
   "execution_count": 484,
   "metadata": {},
   "outputs": [],
   "source": [
    "#Creating a dataframe to store the results of the tests\n",
    "illegals_comparison_df = pd.DataFrame(columns = ['Feature Name', 'User Mean', 'Non-User Mean', \n",
    "                                        'Effect Size', 'p-val', 'Effect Size Cohen',\n",
    "                                        'Result Sentence'])\n",
    "\n",
    "#Using a standard scalar to scale all of the data before t-testing\n",
    "finalized_df.iloc[:,:12] = scale.fit_transform(finalized_df.iloc[:,:12])\n",
    "\n",
    "#This loop iterates through a list of all 7 personality trait columns and performs a t-test between users and non-users\n",
    "#for each trait\n",
    "for col in list(finalized_df.columns[5:-3]):\n",
    "    non_user_data = finalized_df[finalized_df['User_Illegal_Drugs']==0][col]\n",
    "    user_data = finalized_df[finalized_df['User_Illegal_Drugs']==1][col]\n",
    "    \n",
    "    non_user_mean = non_user_data.mean()\n",
    "    user_mean = user_data.mean()\n",
    "    \n",
    "    #Using helper function to get p_val and effect sizes\n",
    "    p_val, effect_size_quantity, effect_size_cohen = ttest_helper(non_user_data, user_data)\n",
    "    \n",
    "    p_val = round(p_val, 4)\n",
    "    \n",
    "    \n",
    "    # Creating summary sentences to put into the dataframe\n",
    "    if (user_mean > non_user_mean) & (p_val < 0.05):\n",
    "        result_sentence = str('Users have higher {} scores than Non-users'.format(col))\n",
    "        \n",
    "    elif(non_user_mean > user_mean) & (p_val < 0.05):\n",
    "        result_sentence = str('Users have lower {} scores than Non-users'.format(col))\n",
    "        \n",
    "    else:\n",
    "        result_sentence = str('No statistically significant difference')\n",
    "    \n",
    "    #Updating the dataframe with the results\n",
    "    illegals_comparison_df = illegals_comparison_df.append({'Feature Name': col, 'User Mean': user_mean, 'Non-User Mean': non_user_mean,\n",
    "                                         'Effect Size': effect_size_quantity, 'p-val': p_val, \n",
    "                                         'Effect Size Cohen': effect_size_cohen, \n",
    "                                         'Result Sentence': result_sentence}, ignore_index=True)"
   ]
  },
  {
   "cell_type": "code",
   "execution_count": 485,
   "metadata": {
    "scrolled": true
   },
   "outputs": [
    {
     "data": {
      "text/html": [
       "<div>\n",
       "<style scoped>\n",
       "    .dataframe tbody tr th:only-of-type {\n",
       "        vertical-align: middle;\n",
       "    }\n",
       "\n",
       "    .dataframe tbody tr th {\n",
       "        vertical-align: top;\n",
       "    }\n",
       "\n",
       "    .dataframe thead th {\n",
       "        text-align: right;\n",
       "    }\n",
       "</style>\n",
       "<table border=\"1\" class=\"dataframe\">\n",
       "  <thead>\n",
       "    <tr style=\"text-align: right;\">\n",
       "      <th></th>\n",
       "      <th>Feature Name</th>\n",
       "      <th>User Mean</th>\n",
       "      <th>Non-User Mean</th>\n",
       "      <th>Effect Size</th>\n",
       "      <th>p-val</th>\n",
       "      <th>Effect Size Cohen</th>\n",
       "      <th>Result Sentence</th>\n",
       "    </tr>\n",
       "  </thead>\n",
       "  <tbody>\n",
       "    <tr>\n",
       "      <th>0</th>\n",
       "      <td>Nscore</td>\n",
       "      <td>0.131798</td>\n",
       "      <td>-0.257605</td>\n",
       "      <td>-0.39</td>\n",
       "      <td>0.0000</td>\n",
       "      <td>-0.396</td>\n",
       "      <td>Users have higher Nscore scores than Non-users</td>\n",
       "    </tr>\n",
       "    <tr>\n",
       "      <th>1</th>\n",
       "      <td>Escore</td>\n",
       "      <td>-0.046889</td>\n",
       "      <td>0.091647</td>\n",
       "      <td>0.14</td>\n",
       "      <td>0.0027</td>\n",
       "      <td>0.139</td>\n",
       "      <td>Users have lower Escore scores than Non-users</td>\n",
       "    </tr>\n",
       "    <tr>\n",
       "      <th>2</th>\n",
       "      <td>Oscore</td>\n",
       "      <td>0.225973</td>\n",
       "      <td>-0.441675</td>\n",
       "      <td>-0.67</td>\n",
       "      <td>0.0000</td>\n",
       "      <td>-0.703</td>\n",
       "      <td>Users have higher Oscore scores than Non-users</td>\n",
       "    </tr>\n",
       "    <tr>\n",
       "      <th>3</th>\n",
       "      <td>Ascore</td>\n",
       "      <td>-0.127554</td>\n",
       "      <td>0.249310</td>\n",
       "      <td>0.38</td>\n",
       "      <td>0.0000</td>\n",
       "      <td>0.383</td>\n",
       "      <td>Users have lower Ascore scores than Non-users</td>\n",
       "    </tr>\n",
       "    <tr>\n",
       "      <th>4</th>\n",
       "      <td>Cscore</td>\n",
       "      <td>-0.217380</td>\n",
       "      <td>0.424880</td>\n",
       "      <td>0.64</td>\n",
       "      <td>0.0000</td>\n",
       "      <td>0.674</td>\n",
       "      <td>Users have lower Cscore scores than Non-users</td>\n",
       "    </tr>\n",
       "    <tr>\n",
       "      <th>5</th>\n",
       "      <td>Impulsive</td>\n",
       "      <td>0.209115</td>\n",
       "      <td>-0.408725</td>\n",
       "      <td>-0.62</td>\n",
       "      <td>0.0000</td>\n",
       "      <td>-0.646</td>\n",
       "      <td>Users have higher Impulsive scores than Non-users</td>\n",
       "    </tr>\n",
       "    <tr>\n",
       "      <th>6</th>\n",
       "      <td>SS</td>\n",
       "      <td>0.277456</td>\n",
       "      <td>-0.542301</td>\n",
       "      <td>-0.82</td>\n",
       "      <td>0.0000</td>\n",
       "      <td>-0.889</td>\n",
       "      <td>Users have higher SS scores than Non-users</td>\n",
       "    </tr>\n",
       "  </tbody>\n",
       "</table>\n",
       "</div>"
      ],
      "text/plain": [
       "  Feature Name  User Mean  Non-User Mean  Effect Size   p-val  \\\n",
       "0       Nscore   0.131798      -0.257605        -0.39  0.0000   \n",
       "1       Escore  -0.046889       0.091647         0.14  0.0027   \n",
       "2       Oscore   0.225973      -0.441675        -0.67  0.0000   \n",
       "3       Ascore  -0.127554       0.249310         0.38  0.0000   \n",
       "4       Cscore  -0.217380       0.424880         0.64  0.0000   \n",
       "5    Impulsive   0.209115      -0.408725        -0.62  0.0000   \n",
       "6           SS   0.277456      -0.542301        -0.82  0.0000   \n",
       "\n",
       "   Effect Size Cohen                                    Result Sentence  \n",
       "0             -0.396     Users have higher Nscore scores than Non-users  \n",
       "1              0.139      Users have lower Escore scores than Non-users  \n",
       "2             -0.703     Users have higher Oscore scores than Non-users  \n",
       "3              0.383      Users have lower Ascore scores than Non-users  \n",
       "4              0.674      Users have lower Cscore scores than Non-users  \n",
       "5             -0.646  Users have higher Impulsive scores than Non-users  \n",
       "6             -0.889         Users have higher SS scores than Non-users  "
      ]
     },
     "execution_count": 485,
     "metadata": {},
     "output_type": "execute_result"
    }
   ],
   "source": [
    "illegals_comparison_df"
   ]
  },
  {
   "cell_type": "markdown",
   "metadata": {},
   "source": [
    "## <font color='green'> Illegal Drug Hypothesis Test Findings"
   ]
  },
  {
   "cell_type": "markdown",
   "metadata": {},
   "source": [
    "Illegal Drug users have higher...\n",
    "- Neuroticism\n",
    "- Openness to experience\n",
    "- Impulsiveness\n",
    "- Sensation Seeking\n",
    "- Extraversion\n",
    "\n",
    "Illegal Drug non-users have higher...\n",
    "- Agreeableness\n",
    "- Conscientiousness\n",
    "\n",
    "\n",
    "The biggest differences in terms of effect size between the two groups are sensation seeking and openness to experience"
   ]
  },
  {
   "cell_type": "markdown",
   "metadata": {},
   "source": [
    "# Project Conclusion"
   ]
  },
  {
   "cell_type": "markdown",
   "metadata": {},
   "source": [
    "At the conclusion of the project, I have created a predictive model which can be used as a risk assessment tool to determine which individuals are most at risk of trying illegal (or legal) drugs. \n",
    "\n",
    "It was notably more difficult to predict Nicotine use, suggesting that there are predictive factors outside the scope of the dataset features which may affect Nicotinue usage. Cannabis and illegal drugs were far easier to predict based on demographics and personality traits, and ultimately I was able to predict both with over 80% accuracy.\n",
    "\n",
    "After assessing feature importance for each of the models, each classifier has a slightly different feature importance order, but there were several consistent top-performers. \n",
    "\n",
    "Among the demographics factors, country, age, and education were the most important features.\n",
    "\n",
    "Among personality factors, Oscore (Openness) and Cscore(Conscientiousness) were the most important factors for all three classifiers. "
   ]
  },
  {
   "cell_type": "markdown",
   "metadata": {},
   "source": [
    "# Future Work"
   ]
  },
  {
   "cell_type": "markdown",
   "metadata": {},
   "source": [
    "- Analyze addictive behavior by classifying whether or not someone has used multiple drugs in the past week\n",
    "- Use this information to create a \"is_drug_abuser\" column that indicates whether or not someone is abusing drugs\n",
    "- Gather more detailed demographic information for each survey respondent. This would hopefully inmprove the accuracy of the nicotine classifier\n",
    "- Somehow find a sample that is more representative of the population. This sample is clearly biased towards users of drugs, as it is highly unlikely that more than 50% of the population uses illegal drugs. Find a way to sample a more representative amount of users/non-users."
   ]
  }
 ],
 "metadata": {
  "kernelspec": {
   "display_name": "Python 3",
   "language": "python",
   "name": "python3"
  },
  "language_info": {
   "codemirror_mode": {
    "name": "ipython",
    "version": 3
   },
   "file_extension": ".py",
   "mimetype": "text/x-python",
   "name": "python",
   "nbconvert_exporter": "python",
   "pygments_lexer": "ipython3",
   "version": "3.7.1"
  },
  "varInspector": {
   "cols": {
    "lenName": 16,
    "lenType": 16,
    "lenVar": 40
   },
   "kernels_config": {
    "python": {
     "delete_cmd_postfix": "",
     "delete_cmd_prefix": "del ",
     "library": "var_list.py",
     "varRefreshCmd": "print(var_dic_list())"
    },
    "r": {
     "delete_cmd_postfix": ") ",
     "delete_cmd_prefix": "rm(",
     "library": "var_list.r",
     "varRefreshCmd": "cat(var_dic_list()) "
    }
   },
   "types_to_exclude": [
    "module",
    "function",
    "builtin_function_or_method",
    "instance",
    "_Feature"
   ],
   "window_display": false
  }
 },
 "nbformat": 4,
 "nbformat_minor": 2
}
